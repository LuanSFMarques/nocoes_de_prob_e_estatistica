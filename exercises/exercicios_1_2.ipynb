{
 "cells": [
  {
   "cell_type": "code",
   "execution_count": 2,
   "id": "3ca8e0d3-d935-4dd2-9142-42bd92b22341",
   "metadata": {},
   "outputs": [],
   "source": [
    "import pandas as pd\n",
    "import numpy as np\n",
    "import matplotlib.pyplot as plt"
   ]
  },
  {
   "cell_type": "markdown",
   "id": "0edcbbb7-e486-44e0-8390-08c6376578a4",
   "metadata": {},
   "source": [
    "## 1)-------------------------------------------------------------------------------------------\n",
    "a)qualitativa nominal, \n",
    "b)qualitativa nominal, \n",
    "c)quantitativo continua, \n",
    "d)qualitativa ordinal, \n",
    "e)quantitativa discreta."
   ]
  },
  {
   "cell_type": "markdown",
   "id": "69a14135-4ef3-4cfc-b478-a7c552770e13",
   "metadata": {},
   "source": [
    "---"
   ]
  },
  {
   "cell_type": "markdown",
   "id": "bc7c1964-4f4c-4446-b214-9b675f46c6cf",
   "metadata": {},
   "source": [
    "## 2)-------------------------------------------------------------------------------------------\n",
    "a) Fisioterapias: quantitativa discreta, Sequelas: Qualitativa Nominal, Cirurgia: Qualitativa Ordinal.\n",
    "\n",
    "b) Tabelas de frequência:"
   ]
  },
  {
   "cell_type": "code",
   "execution_count": 19,
   "id": "bd806a35-8ef2-4090-828c-dfe8d4bd31d6",
   "metadata": {},
   "outputs": [],
   "source": [
    "pacientes = pd.DataFrame({'Fisioterapias':[7,8,5,6,4,5,7,7,6,8,6,5,5,4,5], 'Sequelas':['S','S','N','N','N','S','S','N','N','S','S','N','S','N','N'], 'Cirurgia':['A','M','A','M','M','B','A','M','B','M','B','B','M','M','A']})"
   ]
  },
  {
   "cell_type": "code",
   "execution_count": 25,
   "id": "a5bea057-beda-4bbb-b680-352483e876c2",
   "metadata": {},
   "outputs": [],
   "source": [
    "pacientes_fisio_freq = pacientes['Fisioterapias'].value_counts().reset_index()\n",
    "pacientes_seq_freq = pacientes['Sequelas'].value_counts().reset_index()\n",
    "pacientes_cir_freq = pacientes['Cirurgia'].value_counts().reset_index()"
   ]
  },
  {
   "cell_type": "code",
   "execution_count": 46,
   "id": "56972742-7e01-4bde-ac6b-cfe0394b69a2",
   "metadata": {},
   "outputs": [
    {
     "data": {
      "text/html": [
       "<div>\n",
       "<style scoped>\n",
       "    .dataframe tbody tr th:only-of-type {\n",
       "        vertical-align: middle;\n",
       "    }\n",
       "\n",
       "    .dataframe tbody tr th {\n",
       "        vertical-align: top;\n",
       "    }\n",
       "\n",
       "    .dataframe thead th {\n",
       "        text-align: right;\n",
       "    }\n",
       "</style>\n",
       "<table border=\"1\" class=\"dataframe\">\n",
       "  <thead>\n",
       "    <tr style=\"text-align: right;\">\n",
       "      <th></th>\n",
       "      <th>Fisioterapias</th>\n",
       "      <th>count</th>\n",
       "      <th>Porcentagem</th>\n",
       "    </tr>\n",
       "  </thead>\n",
       "  <tbody>\n",
       "    <tr>\n",
       "      <th>4</th>\n",
       "      <td>4</td>\n",
       "      <td>2</td>\n",
       "      <td>0.13</td>\n",
       "    </tr>\n",
       "    <tr>\n",
       "      <th>0</th>\n",
       "      <td>5</td>\n",
       "      <td>5</td>\n",
       "      <td>0.33</td>\n",
       "    </tr>\n",
       "    <tr>\n",
       "      <th>2</th>\n",
       "      <td>6</td>\n",
       "      <td>3</td>\n",
       "      <td>0.20</td>\n",
       "    </tr>\n",
       "    <tr>\n",
       "      <th>1</th>\n",
       "      <td>7</td>\n",
       "      <td>3</td>\n",
       "      <td>0.20</td>\n",
       "    </tr>\n",
       "    <tr>\n",
       "      <th>3</th>\n",
       "      <td>8</td>\n",
       "      <td>2</td>\n",
       "      <td>0.13</td>\n",
       "    </tr>\n",
       "  </tbody>\n",
       "</table>\n",
       "</div>"
      ],
      "text/plain": [
       "   Fisioterapias  count  Porcentagem\n",
       "4              4      2         0.13\n",
       "0              5      5         0.33\n",
       "2              6      3         0.20\n",
       "1              7      3         0.20\n",
       "3              8      2         0.13"
      ]
     },
     "execution_count": 46,
     "metadata": {},
     "output_type": "execute_result"
    }
   ],
   "source": [
    "total = pacientes_fisio_freq['count'].sum()\n",
    "pacientes_fisio_freq['Porcentagem'] = (pacientes_fisio_freq['count'] / total).round(2)\n",
    "pacientes_fisio_freq.sort_values(by='Fisioterapias')"
   ]
  },
  {
   "cell_type": "code",
   "execution_count": 47,
   "id": "480b1d49-35a3-441d-b997-cc996947b5b9",
   "metadata": {},
   "outputs": [
    {
     "data": {
      "text/html": [
       "<div>\n",
       "<style scoped>\n",
       "    .dataframe tbody tr th:only-of-type {\n",
       "        vertical-align: middle;\n",
       "    }\n",
       "\n",
       "    .dataframe tbody tr th {\n",
       "        vertical-align: top;\n",
       "    }\n",
       "\n",
       "    .dataframe thead th {\n",
       "        text-align: right;\n",
       "    }\n",
       "</style>\n",
       "<table border=\"1\" class=\"dataframe\">\n",
       "  <thead>\n",
       "    <tr style=\"text-align: right;\">\n",
       "      <th></th>\n",
       "      <th>Sequelas</th>\n",
       "      <th>count</th>\n",
       "      <th>Porcentagem</th>\n",
       "    </tr>\n",
       "  </thead>\n",
       "  <tbody>\n",
       "    <tr>\n",
       "      <th>0</th>\n",
       "      <td>N</td>\n",
       "      <td>8</td>\n",
       "      <td>0.53</td>\n",
       "    </tr>\n",
       "    <tr>\n",
       "      <th>1</th>\n",
       "      <td>S</td>\n",
       "      <td>7</td>\n",
       "      <td>0.47</td>\n",
       "    </tr>\n",
       "  </tbody>\n",
       "</table>\n",
       "</div>"
      ],
      "text/plain": [
       "  Sequelas  count  Porcentagem\n",
       "0        N      8         0.53\n",
       "1        S      7         0.47"
      ]
     },
     "execution_count": 47,
     "metadata": {},
     "output_type": "execute_result"
    }
   ],
   "source": [
    "total = pacientes_seq_freq['count'].sum()\n",
    "pacientes_seq_freq['Porcentagem'] = (pacientes_seq_freq['count'] / total).round(2)\n",
    "pacientes_seq_freq.sort_values(by='Sequelas')"
   ]
  },
  {
   "cell_type": "code",
   "execution_count": 48,
   "id": "e19eacab-fc26-4631-af6a-df1e5b6eaf2a",
   "metadata": {},
   "outputs": [
    {
     "data": {
      "text/html": [
       "<div>\n",
       "<style scoped>\n",
       "    .dataframe tbody tr th:only-of-type {\n",
       "        vertical-align: middle;\n",
       "    }\n",
       "\n",
       "    .dataframe tbody tr th {\n",
       "        vertical-align: top;\n",
       "    }\n",
       "\n",
       "    .dataframe thead th {\n",
       "        text-align: right;\n",
       "    }\n",
       "</style>\n",
       "<table border=\"1\" class=\"dataframe\">\n",
       "  <thead>\n",
       "    <tr style=\"text-align: right;\">\n",
       "      <th></th>\n",
       "      <th>Cirurgia</th>\n",
       "      <th>count</th>\n",
       "      <th>Porcentagem</th>\n",
       "    </tr>\n",
       "  </thead>\n",
       "  <tbody>\n",
       "    <tr>\n",
       "      <th>1</th>\n",
       "      <td>A</td>\n",
       "      <td>4</td>\n",
       "      <td>0.27</td>\n",
       "    </tr>\n",
       "    <tr>\n",
       "      <th>2</th>\n",
       "      <td>B</td>\n",
       "      <td>4</td>\n",
       "      <td>0.27</td>\n",
       "    </tr>\n",
       "    <tr>\n",
       "      <th>0</th>\n",
       "      <td>M</td>\n",
       "      <td>7</td>\n",
       "      <td>0.47</td>\n",
       "    </tr>\n",
       "  </tbody>\n",
       "</table>\n",
       "</div>"
      ],
      "text/plain": [
       "  Cirurgia  count  Porcentagem\n",
       "1        A      4         0.27\n",
       "2        B      4         0.27\n",
       "0        M      7         0.47"
      ]
     },
     "execution_count": 48,
     "metadata": {},
     "output_type": "execute_result"
    }
   ],
   "source": [
    "total = pacientes_cir_freq['count'].sum()\n",
    "pacientes_cir_freq['Porcentagem'] = (pacientes_cir_freq['count'] / total).round(2)\n",
    "pacientes_cir_freq.sort_values(by='Cirurgia')"
   ]
  },
  {
   "cell_type": "markdown",
   "id": "33047309-2ef2-4aaa-9d34-15c27a05342d",
   "metadata": {},
   "source": [
    "c) Gráfico de pontos:"
   ]
  },
  {
   "cell_type": "code",
   "execution_count": 69,
   "id": "9990ede6-f2f0-42ef-8cff-e6ad9606e771",
   "metadata": {},
   "outputs": [
    {
     "data": {
      "text/plain": [
       "<matplotlib.collections.PathCollection at 0x17801699a90>"
      ]
     },
     "execution_count": 69,
     "metadata": {},
     "output_type": "execute_result"
    },
    {
     "data": {
      "image/png": "[encoded data removed]",
      "text/plain": [
       "<Figure size 600x300 with 1 Axes>"
      ]
     },
     "metadata": {},
     "output_type": "display_data"
    }
   ],
   "source": [
    "plt.figure(figsize=(6,3))\n",
    "plt.scatter(pacientes_fisio_freq['Fisioterapias'], pacientes_fisio_freq['count'])"
   ]
  },
  {
   "cell_type": "code",
   "execution_count": 72,
   "id": "e2ff5361-0a86-4448-a3fb-4dd258dfc6fc",
   "metadata": {},
   "outputs": [
    {
     "data": {
      "text/plain": [
       "(array([2., 0., 0., 3., 0., 0., 2., 0., 0., 1.]),\n",
       " array([4. , 4.3, 4.6, 4.9, 5.2, 5.5, 5.8, 6.1, 6.4, 6.7, 7. ]),\n",
       " <BarContainer object of 10 artists>)"
      ]
     },
     "execution_count": 72,
     "metadata": {},
     "output_type": "execute_result"
    },
    {
     "data": {
      "image/png": "[encoded data removed]",
      "text/plain": [
       "<Figure size 600x300 with 1 Axes>"
      ]
     },
     "metadata": {},
     "output_type": "display_data"
    }
   ],
   "source": [
    "plt.figure(figsize=(6,3))\n",
    "plt.hist(pacientes[pacientes['Sequelas'] == 'N']['Fisioterapias'])"
   ]
  },
  {
   "cell_type": "code",
   "execution_count": 73,
   "id": "1bbe415e-2c5b-4c1e-8d86-bb71484f6ddd",
   "metadata": {},
   "outputs": [
    {
     "data": {
      "text/plain": [
       "(array([2., 0., 0., 1., 0., 0., 2., 0., 0., 2.]),\n",
       " array([5. , 5.3, 5.6, 5.9, 6.2, 6.5, 6.8, 7.1, 7.4, 7.7, 8. ]),\n",
       " <BarContainer object of 10 artists>)"
      ]
     },
     "execution_count": 73,
     "metadata": {},
     "output_type": "execute_result"
    },
    {
     "data": {
      "image/png": "[encoded data removed]",
      "text/plain": [
       "<Figure size 600x300 with 1 Axes>"
      ]
     },
     "metadata": {},
     "output_type": "display_data"
    }
   ],
   "source": [
    "plt.figure(figsize=(6,3))\n",
    "plt.hist(pacientes[pacientes['Sequelas'] == 'S']['Fisioterapias'])"
   ]
  },
  {
   "cell_type": "markdown",
   "id": "f06914c4-3f35-4dad-b28f-f565491b1dda",
   "metadata": {},
   "source": [
    "## 3)-------------------------------------------------------------------------------------------\n",
    "\n",
    "a)"
   ]
  },
  {
   "cell_type": "code",
   "execution_count": 96,
   "id": "63a8443d-e8f5-4647-acea-06ed0d4d8322",
   "metadata": {},
   "outputs": [
    {
     "data": {
      "text/plain": [
       "[1.0, 3.0)     2\n",
       "[3.0, 5.0)     5\n",
       "[5.0, 7.0)     4\n",
       "[7.0, 9.0)     4\n",
       "[9.0, 11.0)    5\n",
       "Name: count, dtype: int64"
      ]
     },
     "execution_count": 96,
     "metadata": {},
     "output_type": "execute_result"
    }
   ],
   "source": [
    "salarios = pd.Series([10.1, 7.3, 8.5, 5,4.2, 3.1,2.2,9.0,9.4,6.1,3.3,10.7,1.5,8.2,10,4.7,3.5,6.5,8.9,6.1])\n",
    "bins = pd.interval_range(start=1, end=salarios.max() + 2, freq=2, closed='left')\n",
    "sal_intervals = pd.cut(salarios, bins=bins).value_counts().sort_index() # Sort_index serve para o index, diferente de sort_values\n",
    "sal_intervals"
   ]
  },
  {
   "cell_type": "markdown",
   "id": "14f4091b-45c7-47d0-89ff-ab40689832e5",
   "metadata": {},
   "source": [
    "b)"
   ]
  },
  {
   "cell_type": "code",
   "execution_count": 106,
   "id": "03ab6b29-3fb1-4806-a09e-352175c2d850",
   "metadata": {},
   "outputs": [
    {
     "data": {
      "text/plain": [
       "(array([1., 0., 0., 0., 0., 0., 2., 0., 0., 2.]),\n",
       " array([2. , 2.3, 2.6, 2.9, 3.2, 3.5, 3.8, 4.1, 4.4, 4.7, 5. ]),\n",
       " <BarContainer object of 10 artists>)"
      ]
     },
     "execution_count": 106,
     "metadata": {},
     "output_type": "execute_result"
    },
    {
     "data": {
      "image/png": "[encoded data removed]",
      "text/plain": [
       "<Figure size 640x480 with 1 Axes>"
      ]
     },
     "metadata": {},
     "output_type": "display_data"
    }
   ],
   "source": [
    "plt.hist(sal_intervals)"
   ]
  },
  {
   "cell_type": "code",
   "execution_count": 105,
   "id": "7d260d76-a7b5-4eb1-8307-c21fa9d3669a",
   "metadata": {},
   "outputs": [
    {
     "data": {
      "text/plain": [
       "[1.0, 3.0)     0.10\n",
       "[3.0, 5.0)     0.25\n",
       "[5.0, 7.0)     0.20\n",
       "[7.0, 9.0)     0.20\n",
       "[9.0, 11.0)    0.25\n",
       "Name: count, dtype: float64"
      ]
     },
     "execution_count": 105,
     "metadata": {},
     "output_type": "execute_result"
    }
   ],
   "source": [
    "sal_intervals_freq = sal_intervals/sal_intervals.sum()\n",
    "sal_intervals_freq"
   ]
  },
  {
   "cell_type": "code",
   "execution_count": 132,
   "id": "3ef64f2a-be47-4c6a-91a3-142a9301fa5b",
   "metadata": {
    "scrolled": true
   },
   "outputs": [
    {
     "data": {
      "text/plain": [
       "0      1.5\n",
       "1      2.2\n",
       "2      3.1\n",
       "3      3.3\n",
       "4      3.5\n",
       "5      4.2\n",
       "6      4.7\n",
       "7      5.0\n",
       "8      6.1\n",
       "9      6.1\n",
       "10     6.5\n",
       "11     7.3\n",
       "12     8.2\n",
       "13     8.5\n",
       "14     8.9\n",
       "15     9.0\n",
       "16     9.4\n",
       "17    10.0\n",
       "18    10.1\n",
       "19    10.7\n",
       "dtype: float64"
      ]
     },
     "execution_count": 132,
     "metadata": {},
     "output_type": "execute_result"
    },
    {
     "data": {
      "image/png": "[encoded data removed]",
      "text/plain": [
       "<Figure size 640x480 with 1 Axes>"
      ]
     },
     "metadata": {},
     "output_type": "display_data"
    }
   ],
   "source": [
    "plt.grid(axis='y', linestyle='--', color='lightgray')\n",
    "plt.yticks(np.arange(0,12,1))\n",
    "plt.boxplot(salarios)\n",
    "salarios.sort_values().reset_index(drop=True)"
   ]
  },
  {
   "cell_type": "markdown",
   "id": "750000bb-e119-4651-8622-74ea1bc5a8a5",
   "metadata": {},
   "source": [
    "## 6)-------------------------------------------------------------------------------------------"
   ]
  },
  {
   "cell_type": "code",
   "execution_count": 133,
   "id": "44108b8d-1b51-4222-a94b-8f1132b0d2b6",
   "metadata": {},
   "outputs": [],
   "source": [
    "# tempo de efeito de dois anestesicos diferentes em 18 animais de fisico parecido.\n",
    "anestesicos = pd.DataFrame({'alpha':[24,24,24,25,25,26,26,27,28,29,30,30,30,31,31,32,32,33], 'beta':[19,19,19,20,22,25,26,26,27,29,29,31,34,34,37,40,41,42]})"
   ]
  },
  {
   "cell_type": "code",
   "execution_count": 161,
   "id": "7effbbef-afbb-4745-9c2a-5a87cf597565",
   "metadata": {},
   "outputs": [],
   "source": [
    "alpha_q1 = anestesicos['alpha'].quantile(0.25)\n",
    "alpha_q2 = anestesicos['alpha'].quantile(0.5)\n",
    "alpha_q3 = anestesicos['alpha'].quantile(0.75)\n",
    "beta_q1 = anestesicos['beta'].quantile(0.25)\n",
    "beta_q2 = anestesicos['beta'].quantile(0.5)\n",
    "beta_q3 = anestesicos['beta'].quantile(0.75)"
   ]
  },
  {
   "cell_type": "code",
   "execution_count": 162,
   "id": "9359ec05-b55d-4eb5-a5ae-3755d5367277",
   "metadata": {},
   "outputs": [
    {
     "data": {
      "text/plain": [
       "(np.float64(-0.18181818181818182), np.float64(0.06666666666666667))"
      ]
     },
     "execution_count": 162,
     "metadata": {},
     "output_type": "execute_result"
    },
    {
     "data": {
      "image/png": "[encoded data removed]",
      "text/plain": [
       "<Figure size 1000x500 with 4 Axes>"
      ]
     },
     "metadata": {},
     "output_type": "display_data"
    }
   ],
   "source": [
    "fig, axes = plt.subplots(nrows=2, ncols=2, figsize=(10,5))\n",
    "axes[0,0].boxplot(anestesicos['alpha'])\n",
    "axes[0,0].set_yticks(np.arange(15,50,5))\n",
    "axes[0,1].boxplot(anestesicos['beta'])\n",
    "axes[0,1].set_yticks(np.arange(15,50,5))\n",
    "\n",
    "axes[1,0].hist(anestesicos['alpha'],10)\n",
    "axes[1,0].set_yticks(np.arange(0,5,1))\n",
    "\n",
    "axes[1,1].hist(anestesicos['beta'],10)\n",
    "axes[1,1].set_yticks(np.arange(0,5,1))\n",
    "\n",
    "plt.tight_layout()\n",
    "\n",
    "alpha_coeficiente = ((alpha_q3 - alpha_q2) - (alpha_q2 - alpha_q1)) / (alpha_q3 - alpha_q1)\n",
    "beta_coeficiente = ((beta_q3 - beta_q2) - (beta_q2 - beta_q1)) / (beta_q3 - beta_q1)\n",
    "\n",
    "alpha_coeficiente, beta_coeficiente\n"
   ]
  }
 ],
 "metadata": {
  "kernelspec": {
   "display_name": "Python 3 (ipykernel)",
   "language": "python",
   "name": "python3"
  },
  "language_info": {
   "codemirror_mode": {
    "name": "ipython",
    "version": 3
   },
   "file_extension": ".py",
   "mimetype": "text/x-python",
   "name": "python",
   "nbconvert_exporter": "python",
   "pygments_lexer": "ipython3",
   "version": "3.13.1"
  }
 },
 "nbformat": 4,
 "nbformat_minor": 5
}
