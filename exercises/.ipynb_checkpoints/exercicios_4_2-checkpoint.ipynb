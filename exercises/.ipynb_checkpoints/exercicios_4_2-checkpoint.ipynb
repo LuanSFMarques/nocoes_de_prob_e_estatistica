{
 "cells": [
  {
   "cell_type": "code",
   "execution_count": 2,
   "id": "11a1d156-67ae-4eac-af3d-e4401eafdb22",
   "metadata": {},
   "outputs": [],
   "source": [
    "import pandas as pd\n",
    "import numpy as np\n",
    "import scipy"
   ]
  },
  {
   "cell_type": "markdown",
   "id": "f3d3e7be-f2a9-47a2-a3c8-a8570d15920a",
   "metadata": {},
   "source": [
    "pag 115"
   ]
  },
  {
   "cell_type": "markdown",
   "id": "c203cdfc-1eb2-41f3-b3c4-c66006f21f12",
   "metadata": {},
   "source": [
    "# Exercício 2"
   ]
  },
  {
   "cell_type": "code",
   "execution_count": 30,
   "id": "7c7c0e79-bc21-4dc0-a41a-851a764c6910",
   "metadata": {},
   "outputs": [
    {
     "name": "stdout",
     "output_type": "stream",
     "text": [
      "   telev  count  freq\n",
      "3      0      2  0.08\n",
      "1      1     10  0.40\n",
      "0      2     10  0.40\n",
      "2      3      3  0.12 \n",
      " 1.56 \n",
      " 2.0 \n",
      " [1 2]\n"
     ]
    }
   ],
   "source": [
    "data = pd.Series([2,2,2,3,1,2,1,1,1,1,0,1,2,2,2,2,3,1,1,3,1,2,1,0,2])\n",
    "data_freq = data.value_counts().reset_index().sort_values(\"index\").rename(columns={\"index\":\"telev\"})\n",
    "data_freq['freq'] = round(data_freq['count']/data_freq['count'].sum(), 2)\n",
    "print(data_freq, \"\\n\",data.mean(),  \"\\n\",data.median(),  \"\\n\",data.mode().values)"
   ]
  },
  {
   "cell_type": "markdown",
   "id": "dee13bf3-da05-4f43-8bad-cb291c90a99c",
   "metadata": {},
   "source": [
    "# Exercício 3"
   ]
  },
  {
   "cell_type": "code",
   "execution_count": 40,
   "id": "af51883e-0a45-4afc-991c-67ccd8a46d6e",
   "metadata": {},
   "outputs": [
    {
     "name": "stdout",
     "output_type": "stream",
     "text": [
      "Média: 1.8799999999999997\n",
      "Mediana: 1.8\n",
      "Moda: 1.5\n"
     ]
    }
   ],
   "source": [
    "# a) \n",
    "data = pd.Series([1.5,1.6,2.3,1.7,1.5,2.0,1.5,1.8,2.1,2.1,1.9,1.8,1.7,2.5,2.2])\n",
    "print(f\"Média: {data.mean()}\\nMediana: {data.median()}\\nModa: {data.mode().values[0]}\")"
   ]
  },
  {
   "cell_type": "code",
   "execution_count": 52,
   "id": "c3b48a15-a55b-4d10-bbbf-bbddb0501d86",
   "metadata": {},
   "outputs": [
    {
     "data": {
      "text/html": [
       "<div>\n",
       "<style scoped>\n",
       "    .dataframe tbody tr th:only-of-type {\n",
       "        vertical-align: middle;\n",
       "    }\n",
       "\n",
       "    .dataframe tbody tr th {\n",
       "        vertical-align: top;\n",
       "    }\n",
       "\n",
       "    .dataframe thead th {\n",
       "        text-align: right;\n",
       "    }\n",
       "</style>\n",
       "<table border=\"1\" class=\"dataframe\">\n",
       "  <thead>\n",
       "    <tr style=\"text-align: right;\">\n",
       "      <th></th>\n",
       "      <th>index</th>\n",
       "      <th>count</th>\n",
       "      <th>freq</th>\n",
       "    </tr>\n",
       "  </thead>\n",
       "  <tbody>\n",
       "    <tr>\n",
       "      <th>0</th>\n",
       "      <td>[1.5, 1.7)</td>\n",
       "      <td>4</td>\n",
       "      <td>0.267</td>\n",
       "    </tr>\n",
       "    <tr>\n",
       "      <th>1</th>\n",
       "      <td>[1.7, 1.9)</td>\n",
       "      <td>4</td>\n",
       "      <td>0.267</td>\n",
       "    </tr>\n",
       "    <tr>\n",
       "      <th>3</th>\n",
       "      <td>[1.9, 2.1)</td>\n",
       "      <td>2</td>\n",
       "      <td>0.133</td>\n",
       "    </tr>\n",
       "    <tr>\n",
       "      <th>2</th>\n",
       "      <td>[2.1, 2.3)</td>\n",
       "      <td>3</td>\n",
       "      <td>0.200</td>\n",
       "    </tr>\n",
       "    <tr>\n",
       "      <th>4</th>\n",
       "      <td>[2.3, 2.5)</td>\n",
       "      <td>1</td>\n",
       "      <td>0.067</td>\n",
       "    </tr>\n",
       "    <tr>\n",
       "      <th>5</th>\n",
       "      <td>[2.5, 2.7)</td>\n",
       "      <td>1</td>\n",
       "      <td>0.067</td>\n",
       "    </tr>\n",
       "  </tbody>\n",
       "</table>\n",
       "</div>"
      ],
      "text/plain": [
       "        index  count   freq\n",
       "0  [1.5, 1.7)      4  0.267\n",
       "1  [1.7, 1.9)      4  0.267\n",
       "3  [1.9, 2.1)      2  0.133\n",
       "2  [2.1, 2.3)      3  0.200\n",
       "4  [2.3, 2.5)      1  0.067\n",
       "5  [2.5, 2.7)      1  0.067"
      ]
     },
     "execution_count": 52,
     "metadata": {},
     "output_type": "execute_result"
    }
   ],
   "source": [
    "# b) tabela de freq com ranges de 0.2\n",
    "bins = np.arange(data.min(), data.max()+.2, .2)\n",
    "data_freq = pd.cut(data, bins,right=False).value_counts().reset_index()\n",
    "\n",
    "data_freq['freq'] = round(data_freq['count']/data_freq['count'].sum(), 3)\n",
    "\n",
    "data_freq.sort_values(\"index\")"
   ]
  },
  {
   "cell_type": "code",
   "execution_count": 120,
   "id": "c7f28ab1-ec9e-45ba-8a50-e2995ffeb3bb",
   "metadata": {},
   "outputs": [
    {
     "name": "stdout",
     "output_type": "stream",
     "text": [
      "Média: 1.9487999999999999\n",
      "Mediana: 1.8\n",
      "Moda: 1.6\n"
     ]
    }
   ],
   "source": [
    "# c) moda, média e mediana da tabela de freq\n",
    "# MEDIA---------\n",
    "midpoint = data_freq['index'].apply(lambda x: (x.left + x.right)/2).astype(np.float64)\n",
    "media = (midpoint * data_freq['freq']).sum()\n",
    "\n",
    "# MEDIANA-----------\n",
    "mediana = midpoint.reset_index(drop=False)\n",
    "mediana['freq'] = data_freq['freq']\n",
    "\n",
    "soma = 0\n",
    "for a,b in mediana.iterrows():\n",
    "    soma += b['freq']\n",
    "    if soma >= .5:\n",
    "        mediana = round(b['index'], 1)\n",
    "        break\n",
    "\n",
    "# MODA--------------\n",
    "moda = midpoint.reset_index(drop=False)\n",
    "moda['freq'] = data_freq['freq']\n",
    "moda = moda.loc[moda['freq'].idxmax()]['index']\n",
    "\n",
    "# FINAL\n",
    "print(f\"Média: {media}\\nMediana: {mediana}\\nModa: {moda}\")"
   ]
  },
  {
   "cell_type": "markdown",
   "id": "42880644-ab10-467b-a642-0827ffd77a03",
   "metadata": {},
   "source": [
    "# Exercício 4"
   ]
  },
  {
   "cell_type": "code",
   "execution_count": 143,
   "id": "8f03f4ff-db1d-4eaf-b8c0-0ecf5690c8fc",
   "metadata": {},
   "outputs": [
    {
     "name": "stdout",
     "output_type": "stream",
     "text": [
      "Media: 0.0\n",
      "Mediana: 0.0\n",
      "Moda: [-2, 0, 2]\n"
     ]
    }
   ],
   "source": [
    "data = pd.DataFrame({\"X\":[-2,0,2], \"p\":[1/3,1/3,1/3]})\n",
    "\n",
    "media = (data['X'] * data['p']).sum()\n",
    "\n",
    "summ = 0\n",
    "for a,b in data.iterrows():\n",
    "    summ += b['p']\n",
    "    if summ >= .5:\n",
    "        mediana = b['X']\n",
    "        break\n",
    "\n",
    "moda = data[data['p'] == data['p'].max()]['X'].tolist()\n",
    "moda\n",
    "print(f\"Media: {media}\\nMediana: {mediana}\\nModa: {moda}\")"
   ]
  },
  {
   "cell_type": "markdown",
   "id": "b1899dd9-1809-4c34-9e3e-5698ee53bd1d",
   "metadata": {},
   "source": [
    "# Exercício 5"
   ]
  },
  {
   "cell_type": "code",
   "execution_count": 187,
   "id": "b2da7f4d-55fc-453f-a942-ae96ba2ecf39",
   "metadata": {},
   "outputs": [
    {
     "name": "stdout",
     "output_type": "stream",
     "text": [
      "Variables:\t Mean\tMedian\tMode\n",
      "var1:\t\t 1.0 \t 1 \t 1\n",
      "var2:\t\t 2.66 \t 2 \t 2\n",
      "var3:\t\t 2.5 \t 3 \t 4\n"
     ]
    }
   ],
   "source": [
    "# a)\n",
    "var1 = pd.DataFrame({\"X\":[1], \"p\":[1]})\n",
    "var2 = pd.DataFrame({\"X\":[1,2,5], \"p\":[.33,.34,.33]})\n",
    "var3 = pd.DataFrame({\"X\":[0,3,4], \"p\":[.30,.30,.40]})\n",
    "\n",
    "# TESTE\n",
    "def weighted_mean_median_mode(df):\n",
    "    # df tem colunas: \"X\" (valores), \"p\" (pesos)\n",
    "    \n",
    "    # Média ponderada\n",
    "    mean = np.sum(df[\"X\"] * df[\"p\"]) / np.sum(df[\"p\"])\n",
    "    \n",
    "    # Para mediana ponderada:\n",
    "    # 1. Ordena pelo valor X\n",
    "    df_sorted = df.sort_values(\"X\").reset_index(drop=True)\n",
    "    # 2. Calcula a soma acumulada dos pesos\n",
    "    cumsum = df_sorted[\"p\"].cumsum()\n",
    "    # 3. Mediana é o menor valor X onde soma acumulada >= 0.5\n",
    "    median = df_sorted.loc[cumsum >= 0.5, \"X\"].iloc[0]\n",
    "    \n",
    "    # Para moda ponderada:\n",
    "    # Agrupa por valor, somando os pesos, pega o valor com maior peso total\n",
    "    mode = df.groupby(\"X\")[\"p\"].sum().idxmax()\n",
    "    \n",
    "    return mean, median, mode\n",
    "\n",
    "print(\"Variables:\\t Mean\\tMedian\\tMode\")\n",
    "print(\"var1:\\t\\t\", weighted_mean_median_mode(var1)[0], \"\\t\", weighted_mean_median_mode(var1)[1], \"\\t\", weighted_mean_median_mode(var1)[2])\n",
    "print(\"var2:\\t\\t\", weighted_mean_median_mode(var2)[0], \"\\t\", weighted_mean_median_mode(var2)[1], \"\\t\", weighted_mean_median_mode(var2)[2])\n",
    "print(\"var3:\\t\\t\", weighted_mean_median_mode(var3)[0], \"\\t\", weighted_mean_median_mode(var3)[1], \"\\t\", weighted_mean_median_mode(var3)[2])\n"
   ]
  },
  {
   "cell_type": "markdown",
   "id": "61a34b95-1436-431d-b913-68909d00dcec",
   "metadata": {},
   "source": [
    "# Exercício 6"
   ]
  },
  {
   "cell_type": "code",
   "execution_count": 203,
   "id": "b9bc1cc4-aaaf-461d-9cb8-1a03b398c8ba",
   "metadata": {},
   "outputs": [
    {
     "name": "stdout",
     "output_type": "stream",
     "text": [
      "Peças Normais\n",
      "Media: 1.17\n",
      "Mediana: 1.1\n",
      "Moda: [1.1]\n"
     ]
    }
   ],
   "source": [
    "# a)\n",
    "pecas = pd.DataFrame({\"C\":[1,1.1,1.2,1.3,1.4], \"p\":[.2,.3,.2,.2,.1]})\n",
    "\n",
    "media = (pecas[\"C\"] * pecas[\"p\"]).sum()\n",
    "\n",
    "soma = 0\n",
    "for _, b in pecas.iterrows():\n",
    "    soma += b['p']\n",
    "    if soma >= .5:\n",
    "        mediana = b['C']\n",
    "        break\n",
    "\n",
    "moda = pecas[pecas['p'] == pecas['p'].max()]['C'].tolist()\n",
    "\n",
    "print(\"Peças Normais\")\n",
    "print(f\"Media: {media}\\nMediana: {mediana}\\nModa: {moda}\")"
   ]
  },
  {
   "cell_type": "code",
   "execution_count": 205,
   "id": "c997d2a8-b1ff-4c2e-8199-1de40ecfca10",
   "metadata": {},
   "outputs": [
    {
     "name": "stdout",
     "output_type": "stream",
     "text": [
      "Peças Revenda\n",
      "Media: 1.855\n",
      "Mediana: 1.7500000000000002\n",
      "Moda: 1.7500000000000002\n"
     ]
    }
   ],
   "source": [
    "# b) calculando as medidas de tendência para constante 1.5 e soma 0.1\n",
    "c = 1.5\n",
    "e = 0.1\n",
    "\n",
    "print(\"Peças Revenda\")\n",
    "print(f\"Media: {(media * c)+e}\\nMediana: {(mediana*c)+e}\\nModa: {(moda[0]*c)+e}\")"
   ]
  }
 ],
 "metadata": {
  "kernelspec": {
   "display_name": "Python 3 (ipykernel)",
   "language": "python",
   "name": "python3"
  },
  "language_info": {
   "codemirror_mode": {
    "name": "ipython",
    "version": 3
   },
   "file_extension": ".py",
   "mimetype": "text/x-python",
   "name": "python",
   "nbconvert_exporter": "python",
   "pygments_lexer": "ipython3",
   "version": "3.13.1"
  }
 },
 "nbformat": 4,
 "nbformat_minor": 5
}
