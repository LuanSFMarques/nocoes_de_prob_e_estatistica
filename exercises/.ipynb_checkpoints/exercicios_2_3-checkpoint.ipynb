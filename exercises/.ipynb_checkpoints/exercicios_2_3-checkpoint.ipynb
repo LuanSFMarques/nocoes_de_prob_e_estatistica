{
 "cells": [
  {
   "cell_type": "code",
   "execution_count": 1,
   "id": "995fbd31-b28a-4be4-a414-d1181ec70eb9",
   "metadata": {},
   "outputs": [],
   "source": [
    "import pandas as pd\n",
    "import numpy as np\n",
    "import matplotlib.pyplot as plt"
   ]
  },
  {
   "cell_type": "markdown",
   "id": "b8cc2928-44ed-471f-9fb3-9471dd0a3034",
   "metadata": {},
   "source": [
    "# Exercicio 30"
   ]
  },
  {
   "cell_type": "markdown",
   "id": "d5d3ff40-6ff5-4a3b-99b4-9d972b63418e",
   "metadata": {},
   "source": [
    "pagina 70"
   ]
  },
  {
   "cell_type": "code",
   "execution_count": 5,
   "id": "739206b7-aeae-43d1-bf21-6ae131c7572d",
   "metadata": {},
   "outputs": [
    {
     "data": {
      "text/html": [
       "<div>\n",
       "<style scoped>\n",
       "    .dataframe tbody tr th:only-of-type {\n",
       "        vertical-align: middle;\n",
       "    }\n",
       "\n",
       "    .dataframe tbody tr th {\n",
       "        vertical-align: top;\n",
       "    }\n",
       "\n",
       "    .dataframe thead th {\n",
       "        text-align: right;\n",
       "    }\n",
       "</style>\n",
       "<table border=\"1\" class=\"dataframe\">\n",
       "  <thead>\n",
       "    <tr style=\"text-align: right;\">\n",
       "      <th></th>\n",
       "      <th>Id</th>\n",
       "      <th>Bloco</th>\n",
       "      <th>Andar</th>\n",
       "      <th>Final</th>\n",
       "      <th>Sala</th>\n",
       "      <th>Cozinha</th>\n",
       "      <th>Banheiro</th>\n",
       "      <th>Dorm</th>\n",
       "      <th>Rachadura</th>\n",
       "      <th>Infiltr</th>\n",
       "    </tr>\n",
       "  </thead>\n",
       "  <tbody>\n",
       "    <tr>\n",
       "      <th>0</th>\n",
       "      <td>1</td>\n",
       "      <td>A</td>\n",
       "      <td>1</td>\n",
       "      <td>1</td>\n",
       "      <td>27.8</td>\n",
       "      <td>7.9</td>\n",
       "      <td>5.0</td>\n",
       "      <td>11.6</td>\n",
       "      <td>0</td>\n",
       "      <td>0</td>\n",
       "    </tr>\n",
       "    <tr>\n",
       "      <th>1</th>\n",
       "      <td>2</td>\n",
       "      <td>A</td>\n",
       "      <td>1</td>\n",
       "      <td>2</td>\n",
       "      <td>28.3</td>\n",
       "      <td>7.3</td>\n",
       "      <td>5.4</td>\n",
       "      <td>13.1</td>\n",
       "      <td>0</td>\n",
       "      <td>0</td>\n",
       "    </tr>\n",
       "    <tr>\n",
       "      <th>2</th>\n",
       "      <td>3</td>\n",
       "      <td>A</td>\n",
       "      <td>1</td>\n",
       "      <td>3</td>\n",
       "      <td>27.1</td>\n",
       "      <td>7.1</td>\n",
       "      <td>5.0</td>\n",
       "      <td>14.9</td>\n",
       "      <td>0</td>\n",
       "      <td>0</td>\n",
       "    </tr>\n",
       "    <tr>\n",
       "      <th>3</th>\n",
       "      <td>4</td>\n",
       "      <td>A</td>\n",
       "      <td>1</td>\n",
       "      <td>4</td>\n",
       "      <td>26.5</td>\n",
       "      <td>8.4</td>\n",
       "      <td>3.9</td>\n",
       "      <td>12.4</td>\n",
       "      <td>1</td>\n",
       "      <td>1</td>\n",
       "    </tr>\n",
       "    <tr>\n",
       "      <th>4</th>\n",
       "      <td>5</td>\n",
       "      <td>A</td>\n",
       "      <td>2</td>\n",
       "      <td>1</td>\n",
       "      <td>27.7</td>\n",
       "      <td>7.6</td>\n",
       "      <td>4.7</td>\n",
       "      <td>12.1</td>\n",
       "      <td>0</td>\n",
       "      <td>0</td>\n",
       "    </tr>\n",
       "  </tbody>\n",
       "</table>\n",
       "</div>"
      ],
      "text/plain": [
       "   Id Bloco  Andar  Final  Sala  Cozinha  Banheiro  Dorm  Rachadura  Infiltr\n",
       "0   1     A      1      1  27.8      7.9       5.0  11.6          0        0\n",
       "1   2     A      1      2  28.3      7.3       5.4  13.1          0        0\n",
       "2   3     A      1      3  27.1      7.1       5.0  14.9          0        0\n",
       "3   4     A      1      4  26.5      8.4       3.9  12.4          1        1\n",
       "4   5     A      2      1  27.7      7.6       4.7  12.1          0        0"
      ]
     },
     "execution_count": 5,
     "metadata": {},
     "output_type": "execute_result"
    }
   ],
   "source": [
    "e30 = pd.read_csv(\"https://www.ime.usp.br/~noproest/dados/areas.txt\", sep=r\"\\s+\")\n",
    "e30.head()"
   ]
  },
  {
   "cell_type": "markdown",
   "id": "ac70ef08-4c8e-4bee-aeac-9d913f736f10",
   "metadata": {},
   "source": [
    "a) prob de ser apartamento situado entre andares 4 e 7\n",
    "\n",
    "b) qual a prob de o apartamento estar situado no bloco b\n",
    "\n",
    "c) qual seria a probabilidade de voce ganhar um apartamento com algum problema de construção\n",
    "\n",
    "d)repita os itens anteriores, dado que o apartamento está situado no bloco B."
   ]
  },
  {
   "cell_type": "code",
   "execution_count": 22,
   "id": "ef97ce15-1d58-4d7c-8cc4-7bf89fe71901",
   "metadata": {},
   "outputs": [
    {
     "name": "stdout",
     "output_type": "stream",
     "text": [
      "Probabilidade de ser um andar entre 4 e 7 é: 0.2\n"
     ]
    }
   ],
   "source": [
    "# a)\n",
    "andar = e30[\"Andar\"].value_counts().reset_index()\n",
    "andar['freq'] = round(andar['count']/andar['count'].sum(), 2)\n",
    "a_result = andar[(andar['Andar'] >= 4) & (andar['Andar'] <= 7)]['freq'].sum()\n",
    "print(f\"Probabilidade de ser um andar entre 4 e 7 é: {a_result}\")"
   ]
  },
  {
   "cell_type": "code",
   "execution_count": 33,
   "id": "fe57b263-f200-407e-ae3b-e3b3fdbf4f53",
   "metadata": {},
   "outputs": [
    {
     "name": "stdout",
     "output_type": "stream",
     "text": [
      "Probabilidade de ser um apartamento no bloco B é: 0.5\n"
     ]
    }
   ],
   "source": [
    "# b)\n",
    "bloco = e30[\"Bloco\"].value_counts().reset_index()\n",
    "bloco['freq'] = round(bloco['count']/bloco['count'].sum(), 2)\n",
    "b_result = bloco[bloco['Bloco'] == 'B']['freq'].values[0]\n",
    "print(f\"Probabilidade de ser um apartamento no bloco B é: {b_result}\")"
   ]
  },
  {
   "cell_type": "code",
   "execution_count": 59,
   "id": "3de04fd6-f427-49aa-a686-d1c5a21f3ce7",
   "metadata": {},
   "outputs": [
    {
     "name": "stdout",
     "output_type": "stream",
     "text": [
      "Probabilidade de ser um apartamento com problemas é: 0.57\n"
     ]
    }
   ],
   "source": [
    "# c)\n",
    "probl = (e30[\"Rachadura\"] + e30[\"Infiltr\"]).value_counts().reset_index()\n",
    "probl = probl.rename(columns={\"index\":\"Problemas\"})\n",
    "probl['freq'] = round(probl['count']/probl['count'].sum(), 2)\n",
    "c_result = round(probl[(probl['Problemas'] == 1) | (probl['Problemas'] == 2)]['freq'].sum(), 2)\n",
    "print(f\"Probabilidade de ser um apartamento com problemas é: {c_result}\")"
   ]
  },
  {
   "cell_type": "code",
   "execution_count": 58,
   "id": "1bc50bf2-6ccf-4796-8635-386d9e93ec2d",
   "metadata": {},
   "outputs": [
    {
     "name": "stdout",
     "output_type": "stream",
     "text": [
      "No bloco B, a probabilidade de ser um andar entre 4 e 7 é: 0.2\n",
      "No bloco B, a probabilidade de ser um apartamento no bloco B é: 1.0\n",
      "No bloco B, a probabilidade de ser um apartamento com problemas é: 0.59\n"
     ]
    }
   ],
   "source": [
    "# d)\n",
    "e30_b = e30[e30[\"Bloco\"] == \"B\"]\n",
    "\n",
    "# A ----------------------------\n",
    "andar = e30_b[\"Andar\"].value_counts().reset_index()\n",
    "andar['freq'] = round(andar['count']/andar['count'].sum(), 2)\n",
    "a_result = andar[(andar['Andar'] >= 4) & (andar['Andar'] <= 7)]['freq'].sum()\n",
    "print(f\"No bloco B, a probabilidade de ser um andar entre 4 e 7 é: {a_result}\")\n",
    "\n",
    "# B ----------------------------\n",
    "bloco = e30_b[\"Bloco\"].value_counts().reset_index()\n",
    "bloco['freq'] = round(bloco['count']/bloco['count'].sum(), 2)\n",
    "b_result = bloco[bloco['Bloco'] == 'B']['freq'].values[0]\n",
    "print(f\"No bloco B, a probabilidade de ser um apartamento no bloco B é: {b_result}\")\n",
    "\n",
    "# C ----------------------------\n",
    "probl = (e30_b[\"Rachadura\"] + e30_b[\"Infiltr\"]).value_counts().reset_index()\n",
    "probl = probl.rename(columns={\"index\":\"Problemas\"})\n",
    "probl['freq'] = round(probl['count']/probl['count'].sum(), 2)\n",
    "c_result = round(probl[(probl['Problemas'] == 1) | (probl['Problemas'] == 2)]['freq'].sum(), 2)\n",
    "print(f\"No bloco B, a probabilidade de ser um apartamento com problemas é: {c_result}\")"
   ]
  },
  {
   "cell_type": "markdown",
   "id": "c94d2c83-1569-4f17-b3a2-64b1a9b7bea3",
   "metadata": {},
   "source": [
    "# Exercicio 31"
   ]
  },
  {
   "cell_type": "code",
   "execution_count": 61,
   "id": "b436f0f1-d098-46f1-b790-fd77fdab294f",
   "metadata": {},
   "outputs": [
    {
     "data": {
      "text/html": [
       "<div>\n",
       "<style scoped>\n",
       "    .dataframe tbody tr th:only-of-type {\n",
       "        vertical-align: middle;\n",
       "    }\n",
       "\n",
       "    .dataframe tbody tr th {\n",
       "        vertical-align: top;\n",
       "    }\n",
       "\n",
       "    .dataframe thead th {\n",
       "        text-align: right;\n",
       "    }\n",
       "</style>\n",
       "<table border=\"1\" class=\"dataframe\">\n",
       "  <thead>\n",
       "    <tr style=\"text-align: right;\">\n",
       "      <th></th>\n",
       "      <th>Ident</th>\n",
       "      <th>Grupo</th>\n",
       "      <th>Idade</th>\n",
       "      <th>AKP</th>\n",
       "      <th>P</th>\n",
       "      <th>LDH</th>\n",
       "      <th>ALB</th>\n",
       "      <th>N</th>\n",
       "      <th>GL</th>\n",
       "    </tr>\n",
       "  </thead>\n",
       "  <tbody>\n",
       "    <tr>\n",
       "      <th>0</th>\n",
       "      <td>1</td>\n",
       "      <td>1</td>\n",
       "      <td>71</td>\n",
       "      <td>8.0</td>\n",
       "      <td>3.2</td>\n",
       "      <td>7.8</td>\n",
       "      <td>62</td>\n",
       "      <td>6</td>\n",
       "      <td>113</td>\n",
       "    </tr>\n",
       "    <tr>\n",
       "      <th>1</th>\n",
       "      <td>2</td>\n",
       "      <td>1</td>\n",
       "      <td>66</td>\n",
       "      <td>10.5</td>\n",
       "      <td>5.1</td>\n",
       "      <td>50.1</td>\n",
       "      <td>57</td>\n",
       "      <td>9</td>\n",
       "      <td>93</td>\n",
       "    </tr>\n",
       "    <tr>\n",
       "      <th>2</th>\n",
       "      <td>3</td>\n",
       "      <td>1</td>\n",
       "      <td>83</td>\n",
       "      <td>8.5</td>\n",
       "      <td>3.3</td>\n",
       "      <td>15.3</td>\n",
       "      <td>53</td>\n",
       "      <td>21</td>\n",
       "      <td>109</td>\n",
       "    </tr>\n",
       "    <tr>\n",
       "      <th>3</th>\n",
       "      <td>4</td>\n",
       "      <td>1</td>\n",
       "      <td>52</td>\n",
       "      <td>12.8</td>\n",
       "      <td>3.2</td>\n",
       "      <td>18.8</td>\n",
       "      <td>45</td>\n",
       "      <td>14</td>\n",
       "      <td>91</td>\n",
       "    </tr>\n",
       "    <tr>\n",
       "      <th>4</th>\n",
       "      <td>5</td>\n",
       "      <td>1</td>\n",
       "      <td>61</td>\n",
       "      <td>7.4</td>\n",
       "      <td>4.3</td>\n",
       "      <td>12.9</td>\n",
       "      <td>69</td>\n",
       "      <td>19</td>\n",
       "      <td>78</td>\n",
       "    </tr>\n",
       "  </tbody>\n",
       "</table>\n",
       "</div>"
      ],
      "text/plain": [
       "   Ident  Grupo  Idade   AKP    P   LDH  ALB   N   GL\n",
       "0      1      1     71   8.0  3.2   7.8   62   6  113\n",
       "1      2      1     66  10.5  5.1  50.1   57   9   93\n",
       "2      3      1     83   8.5  3.3  15.3   53  21  109\n",
       "3      4      1     52  12.8  3.2  18.8   45  14   91\n",
       "4      5      1     61   7.4  4.3  12.9   69  19   78"
      ]
     },
     "execution_count": 61,
     "metadata": {},
     "output_type": "execute_result"
    }
   ],
   "source": [
    "e31 = pd.read_csv(\"https://www.ime.usp.br/~noproest/dados/cancer.txt\", sep=r\"\\s+\")\n",
    "e31.head()"
   ]
  },
  {
   "cell_type": "markdown",
   "id": "819ac582-55b7-4590-b3f6-d77ff065128e",
   "metadata": {},
   "source": [
    "a) probabilidade de um paciente aleatório estar categorizado em cada uma dos tipos de diagnostico.\n",
    "\n",
    "b)utilizando o item a, qual a probabilidade de um paciente ser diagnosticado como não tendo a doença"
   ]
  },
  {
   "cell_type": "code",
   "execution_count": 80,
   "id": "bba0ce4f-e231-406f-888f-b24a12b8836c",
   "metadata": {},
   "outputs": [
    {
     "name": "stdout",
     "output_type": "stream",
     "text": [
      "Probabilidade de diagnostico 1: 0.15\n",
      "Probabilidade de diagnostico 2: 0.4\n",
      "Probabilidade de diagnostico 3: 0.26\n",
      "Probabilidade de diagnostico 4: 0.18\n"
     ]
    },
    {
     "data": {
      "text/html": [
       "<div>\n",
       "<style scoped>\n",
       "    .dataframe tbody tr th:only-of-type {\n",
       "        vertical-align: middle;\n",
       "    }\n",
       "\n",
       "    .dataframe tbody tr th {\n",
       "        vertical-align: top;\n",
       "    }\n",
       "\n",
       "    .dataframe thead th {\n",
       "        text-align: right;\n",
       "    }\n",
       "</style>\n",
       "<table border=\"1\" class=\"dataframe\">\n",
       "  <thead>\n",
       "    <tr style=\"text-align: right;\">\n",
       "      <th></th>\n",
       "      <th>Grupo</th>\n",
       "      <th>count</th>\n",
       "      <th>freq</th>\n",
       "    </tr>\n",
       "  </thead>\n",
       "  <tbody>\n",
       "    <tr>\n",
       "      <th>3</th>\n",
       "      <td>1</td>\n",
       "      <td>56</td>\n",
       "      <td>0.15</td>\n",
       "    </tr>\n",
       "    <tr>\n",
       "      <th>0</th>\n",
       "      <td>2</td>\n",
       "      <td>146</td>\n",
       "      <td>0.40</td>\n",
       "    </tr>\n",
       "    <tr>\n",
       "      <th>1</th>\n",
       "      <td>3</td>\n",
       "      <td>95</td>\n",
       "      <td>0.26</td>\n",
       "    </tr>\n",
       "    <tr>\n",
       "      <th>2</th>\n",
       "      <td>4</td>\n",
       "      <td>65</td>\n",
       "      <td>0.18</td>\n",
       "    </tr>\n",
       "  </tbody>\n",
       "</table>\n",
       "</div>"
      ],
      "text/plain": [
       "   Grupo  count  freq\n",
       "3      1     56  0.15\n",
       "0      2    146  0.40\n",
       "1      3     95  0.26\n",
       "2      4     65  0.18"
      ]
     },
     "execution_count": 80,
     "metadata": {},
     "output_type": "execute_result"
    }
   ],
   "source": [
    "# A)\n",
    "diag = e31[\"Grupo\"].value_counts().reset_index().sort_values(by=\"Grupo\")\n",
    "diag['freq'] = round(diag['count']/diag['count'].sum(),2)\n",
    "\n",
    "for i, value in enumerate(diag['freq']):\n",
    "    print(f\"Probabilidade de diagnostico {i+1}: {value}\")\n",
    "diag"
   ]
  },
  {
   "cell_type": "code",
   "execution_count": 86,
   "id": "3501c4ed-affd-4244-a255-8e9eff587bf5",
   "metadata": {},
   "outputs": [
    {
     "name": "stdout",
     "output_type": "stream",
     "text": [
      "Probabilidade de escolher um paciente que não tem a doença: 0.58\n"
     ]
    }
   ],
   "source": [
    "# B)\n",
    "diag_nd = round(diag[(diag['Grupo'] == 2) | (diag['Grupo'] == 4)]['freq'].sum(), 2)\n",
    "print(f\"Probabilidade de escolher um paciente que não tem a doença: {diag_nd}\")"
   ]
  },
  {
   "cell_type": "markdown",
   "id": "fc4e741d-aaf2-4f43-8aac-6f42d39708d8",
   "metadata": {},
   "source": [
    "# Exercicio 32"
   ]
  },
  {
   "cell_type": "code",
   "execution_count": 91,
   "id": "9a136f8f-7753-45ef-aa5e-c0a8eee65b13",
   "metadata": {},
   "outputs": [
    {
     "data": {
      "text/html": [
       "<div>\n",
       "<style scoped>\n",
       "    .dataframe tbody tr th:only-of-type {\n",
       "        vertical-align: middle;\n",
       "    }\n",
       "\n",
       "    .dataframe tbody tr th {\n",
       "        vertical-align: top;\n",
       "    }\n",
       "\n",
       "    .dataframe thead th {\n",
       "        text-align: right;\n",
       "    }\n",
       "</style>\n",
       "<table border=\"1\" class=\"dataframe\">\n",
       "  <thead>\n",
       "    <tr style=\"text-align: right;\">\n",
       "      <th></th>\n",
       "      <th>Num</th>\n",
       "      <th>Comun</th>\n",
       "      <th>Sexo</th>\n",
       "      <th>Idade</th>\n",
       "      <th>Ecivil</th>\n",
       "      <th>Reproce</th>\n",
       "      <th>Temposp</th>\n",
       "      <th>Resid</th>\n",
       "      <th>Trab</th>\n",
       "      <th>Ttrab</th>\n",
       "      <th>Itrab</th>\n",
       "      <th>Renda</th>\n",
       "      <th>Acompu</th>\n",
       "      <th>Serief</th>\n",
       "    </tr>\n",
       "  </thead>\n",
       "  <tbody>\n",
       "    <tr>\n",
       "      <th>0</th>\n",
       "      <td>1</td>\n",
       "      <td>JdRaposo</td>\n",
       "      <td>2</td>\n",
       "      <td>4</td>\n",
       "      <td>4</td>\n",
       "      <td>Nordeste</td>\n",
       "      <td>21</td>\n",
       "      <td>9</td>\n",
       "      <td>3</td>\n",
       "      <td>20</td>\n",
       "      <td>1</td>\n",
       "      <td>2.0</td>\n",
       "      <td>1.0</td>\n",
       "      <td>NaN</td>\n",
       "    </tr>\n",
       "    <tr>\n",
       "      <th>1</th>\n",
       "      <td>2</td>\n",
       "      <td>JdRaposo</td>\n",
       "      <td>2</td>\n",
       "      <td>1</td>\n",
       "      <td>1</td>\n",
       "      <td>Sudeste</td>\n",
       "      <td>24</td>\n",
       "      <td>9</td>\n",
       "      <td>1</td>\n",
       "      <td>1</td>\n",
       "      <td>14</td>\n",
       "      <td>2.0</td>\n",
       "      <td>2.0</td>\n",
       "      <td>7.0</td>\n",
       "    </tr>\n",
       "    <tr>\n",
       "      <th>2</th>\n",
       "      <td>3</td>\n",
       "      <td>JdRaposo</td>\n",
       "      <td>2</td>\n",
       "      <td>2</td>\n",
       "      <td>1</td>\n",
       "      <td>Nordeste</td>\n",
       "      <td>31</td>\n",
       "      <td>3</td>\n",
       "      <td>1</td>\n",
       "      <td>1</td>\n",
       "      <td>14</td>\n",
       "      <td>5.0</td>\n",
       "      <td>2.0</td>\n",
       "      <td>7.0</td>\n",
       "    </tr>\n",
       "    <tr>\n",
       "      <th>3</th>\n",
       "      <td>4</td>\n",
       "      <td>JdRaposo</td>\n",
       "      <td>1</td>\n",
       "      <td>2</td>\n",
       "      <td>2</td>\n",
       "      <td>Nordeste</td>\n",
       "      <td>10</td>\n",
       "      <td>3</td>\n",
       "      <td>1</td>\n",
       "      <td>4</td>\n",
       "      <td>10</td>\n",
       "      <td>5.0</td>\n",
       "      <td>2.0</td>\n",
       "      <td>11.0</td>\n",
       "    </tr>\n",
       "    <tr>\n",
       "      <th>4</th>\n",
       "      <td>5</td>\n",
       "      <td>JdRaposo</td>\n",
       "      <td>2</td>\n",
       "      <td>4</td>\n",
       "      <td>2</td>\n",
       "      <td>Nordeste</td>\n",
       "      <td>31</td>\n",
       "      <td>6</td>\n",
       "      <td>1</td>\n",
       "      <td>1</td>\n",
       "      <td>11</td>\n",
       "      <td>6.0</td>\n",
       "      <td>1.0</td>\n",
       "      <td>4.0</td>\n",
       "    </tr>\n",
       "  </tbody>\n",
       "</table>\n",
       "</div>"
      ],
      "text/plain": [
       "   Num     Comun  Sexo  Idade  Ecivil   Reproce  Temposp  Resid  Trab  Ttrab  \\\n",
       "0    1  JdRaposo     2      4       4  Nordeste       21      9     3     20   \n",
       "1    2  JdRaposo     2      1       1   Sudeste       24      9     1      1   \n",
       "2    3  JdRaposo     2      2       1  Nordeste       31      3     1      1   \n",
       "3    4  JdRaposo     1      2       2  Nordeste       10      3     1      4   \n",
       "4    5  JdRaposo     2      4       2  Nordeste       31      6     1      1   \n",
       "\n",
       "   Itrab  Renda  Acompu  Serief  \n",
       "0      1    2.0     1.0     NaN  \n",
       "1     14    2.0     2.0     7.0  \n",
       "2     14    5.0     2.0     7.0  \n",
       "3     10    5.0     2.0    11.0  \n",
       "4     11    6.0     1.0     4.0  "
      ]
     },
     "execution_count": 91,
     "metadata": {},
     "output_type": "execute_result"
    }
   ],
   "source": [
    "ausp = pd.read_csv(\"https://www.ime.usp.br/~noproest/dados/aeusp.txt\", sep=r\"\\s+\", encoding=\"latin1\")\n",
    "ausp.head()"
   ]
  },
  {
   "cell_type": "markdown",
   "id": "22601e8d-508f-4abe-a358-131105a1f1ed",
   "metadata": {},
   "source": [
    "a) probabilidade do entrevistado ter idade menor que 35\n",
    "\n",
    "b) dado que o entrevistado tem menos que 35, qual a prob de ser do sexo feminino\n",
    "\n",
    "c) probabilidade de escolher um morador do Jardim Raposo que tenha acesso ao computador\n",
    "\n",
    "d) probabilidade do entrevistado ter vindo do nordeste, seja do sexo feminino e esteja trabalhando. se esse morador for escolhido, qual a prob de ter carteira assinada?"
   ]
  },
  {
   "cell_type": "code",
   "execution_count": 108,
   "id": "e983dc6b-19ea-44e0-af35-72bfa6cd844f",
   "metadata": {},
   "outputs": [
    {
     "name": "stdout",
     "output_type": "stream",
     "text": [
      "Probabilidade do entrevistado ter menos de 35 anos é: 0.6\n"
     ]
    }
   ],
   "source": [
    "# a)\n",
    "\n",
    "idade = ausp[\"Idade\"].value_counts().reset_index()\n",
    "idade['freq'] = round(idade['count']/idade['count'].sum(), 2)\n",
    "resp_a = round(idade[idade[\"Idade\"] <= 2]['freq'].sum(), 2)\n",
    "print(f\"Probabilidade do entrevistado ter menos de 35 anos é: {resp_a}\")"
   ]
  },
  {
   "cell_type": "code",
   "execution_count": 123,
   "id": "382b6dfe-f601-4023-8c63-9ba07d899fdf",
   "metadata": {},
   "outputs": [
    {
     "name": "stdout",
     "output_type": "stream",
     "text": [
      "Tendo menos que 35 anos, a probabilidade de ser mulher é: 0.55\n"
     ]
    }
   ],
   "source": [
    "# b)\n",
    "\n",
    "fem = ausp[ausp['Idade'] <= 2]['Sexo'].value_counts().reset_index().sort_values(by=\"Sexo\")\n",
    "fem['freq'] = round(fem['count']/fem['count'].sum(), 2)\n",
    "resp_b = fem.iloc[1]['freq']\n",
    "print(f\"Tendo menos que 35 anos, a probabilidade de ser mulher é: {resp_b}\")"
   ]
  },
  {
   "cell_type": "code",
   "execution_count": 152,
   "id": "fc88dfc4-a3b3-428f-8f3c-77aac0fd34b1",
   "metadata": {},
   "outputs": [
    {
     "name": "stdout",
     "output_type": "stream",
     "text": [
      "Probabilidade de morar no jd raposo e ter acesso a computador: 0.1659\n"
     ]
    }
   ],
   "source": [
    "# c)\n",
    "\n",
    "acomp = ausp['Comun'].value_counts().reset_index()\n",
    "acomp['freq'] = round(acomp['count']/acomp['count'].sum(), 2)\n",
    "jd_rap = acomp[acomp['Comun'] == \"JdRaposo\"]['freq'].values[0]\n",
    "\n",
    "acomp2 = ausp[ausp['Acompu'] <= 2]['Acompu'].value_counts().reset_index()\n",
    "acomp2['freq'] = round(acomp2['count']/acomp2['count'].sum(), 2)\n",
    "acomp2 = acomp2['freq'][0]\n",
    "\n",
    "resp_c = jd_rap * acomp2\n",
    "print(f\"Probabilidade de morar no jd raposo e ter acesso a computador: {resp_c}\")"
   ]
  },
  {
   "cell_type": "code",
   "execution_count": 192,
   "id": "edebfda1-a0c1-4bb4-8b52-136846a5d2a4",
   "metadata": {},
   "outputs": [
    {
     "name": "stdout",
     "output_type": "stream",
     "text": [
      "Probabilidade de ser do nordeste, ser mulher e trabalhar: 0.17\n",
      "Probabilidade do escolhido acima também ter carteira assina: 0.05\n"
     ]
    }
   ],
   "source": [
    "# d)\n",
    "nord = ausp['Reproce'].value_counts().reset_index()\n",
    "nord['freq'] = round(nord['count']/nord['count'].sum(), 2)\n",
    "nord = nord[nord['Reproce'] == 'Nordeste']['freq'][0]\n",
    "\n",
    "sexo = ausp['Sexo'].value_counts().reset_index()\n",
    "sexo['freq'] = round(sexo['count']/sexo['count'].sum(), 2)\n",
    "sexo = sexo[sexo['Sexo'] == 2]['freq'][0]\n",
    "\n",
    "trab = ausp['Trab'].value_counts().reset_index()\n",
    "trab['freq'] = round(trab['count']/trab['count'].sum(), 2)\n",
    "trab = trab[trab['Trab'] == 1]['freq'][0]\n",
    "\n",
    "resp_d1 = round(nord * sexo * trab, 2)\n",
    "print(f\"Probabilidade de ser do nordeste, ser mulher e trabalhar: {resp_d1}\")\n",
    "\n",
    "cart = ausp[ausp['Ttrab']<6]['Ttrab'].value_counts().reset_index()\n",
    "cart['freq'] = round(cart['count']/cart['count'].sum(), 2)\n",
    "cart = cart[cart['Ttrab'] == 1]['freq'][1]\n",
    "resp_d2 = round(cart*resp_d1, 2)\n",
    "print(f\"Probabilidade do escolhido acima também ter carteira assina: {resp_d2}\")"
   ]
  },
  {
   "cell_type": "code",
   "execution_count": null,
   "id": "ab8af2c2-8cd3-4922-88ea-7e4c4b9be8cb",
   "metadata": {},
   "outputs": [],
   "source": []
  }
 ],
 "metadata": {
  "kernelspec": {
   "display_name": "Python 3 (ipykernel)",
   "language": "python",
   "name": "python3"
  },
  "language_info": {
   "codemirror_mode": {
    "name": "ipython",
    "version": 3
   },
   "file_extension": ".py",
   "mimetype": "text/x-python",
   "name": "python",
   "nbconvert_exporter": "python",
   "pygments_lexer": "ipython3",
   "version": "3.13.1"
  }
 },
 "nbformat": 4,
 "nbformat_minor": 5
}
