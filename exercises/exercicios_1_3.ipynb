{
 "cells": [
  {
   "cell_type": "code",
   "execution_count": 1,
   "id": "c617b86c-272d-4838-8bd3-fa9cb491f981",
   "metadata": {},
   "outputs": [],
   "source": [
    "import pandas as pd\n",
    "import numpy as np\n",
    "import matplotlib.pyplot as plt"
   ]
  },
  {
   "cell_type": "markdown",
   "id": "0b42d92a-5bb9-465c-9dd9-d3e18277d960",
   "metadata": {},
   "source": [
    "pagina 35"
   ]
  },
  {
   "cell_type": "markdown",
   "id": "32a634aa-e270-4263-87c7-cb89f15efea1",
   "metadata": {},
   "source": [
    "# 1) ------------------------------------------------------------"
   ]
  },
  {
   "cell_type": "markdown",
   "id": "f1dbf2e2-279b-4451-958b-41c1722c4415",
   "metadata": {},
   "source": [
    "montar tabela com os primeiros 20 estudantes"
   ]
  },
  {
   "cell_type": "code",
   "execution_count": 37,
   "id": "ae0675db-ed4d-4b0e-919c-a4b13d6a7615",
   "metadata": {},
   "outputs": [
    {
     "data": {
      "text/html": [
       "<div>\n",
       "<style scoped>\n",
       "    .dataframe tbody tr th:only-of-type {\n",
       "        vertical-align: middle;\n",
       "    }\n",
       "\n",
       "    .dataframe tbody tr th {\n",
       "        vertical-align: top;\n",
       "    }\n",
       "\n",
       "    .dataframe thead th {\n",
       "        text-align: right;\n",
       "    }\n",
       "</style>\n",
       "<table border=\"1\" class=\"dataframe\">\n",
       "  <thead>\n",
       "    <tr style=\"text-align: right;\">\n",
       "      <th></th>\n",
       "      <th>Sexo</th>\n",
       "      <th>Idade</th>\n",
       "      <th>Alt</th>\n",
       "      <th>Peso</th>\n",
       "    </tr>\n",
       "    <tr>\n",
       "      <th>Id</th>\n",
       "      <th></th>\n",
       "      <th></th>\n",
       "      <th></th>\n",
       "      <th></th>\n",
       "    </tr>\n",
       "  </thead>\n",
       "  <tbody>\n",
       "    <tr>\n",
       "      <th>1</th>\n",
       "      <td>F</td>\n",
       "      <td>17</td>\n",
       "      <td>1.60</td>\n",
       "      <td>60.5</td>\n",
       "    </tr>\n",
       "    <tr>\n",
       "      <th>2</th>\n",
       "      <td>F</td>\n",
       "      <td>18</td>\n",
       "      <td>1.69</td>\n",
       "      <td>55.0</td>\n",
       "    </tr>\n",
       "    <tr>\n",
       "      <th>3</th>\n",
       "      <td>M</td>\n",
       "      <td>18</td>\n",
       "      <td>1.85</td>\n",
       "      <td>72.8</td>\n",
       "    </tr>\n",
       "    <tr>\n",
       "      <th>4</th>\n",
       "      <td>M</td>\n",
       "      <td>25</td>\n",
       "      <td>1.85</td>\n",
       "      <td>80.9</td>\n",
       "    </tr>\n",
       "    <tr>\n",
       "      <th>5</th>\n",
       "      <td>F</td>\n",
       "      <td>19</td>\n",
       "      <td>1.58</td>\n",
       "      <td>55.0</td>\n",
       "    </tr>\n",
       "  </tbody>\n",
       "</table>\n",
       "</div>"
      ],
      "text/plain": [
       "   Sexo  Idade   Alt  Peso\n",
       "Id                        \n",
       "1     F     17  1.60  60.5\n",
       "2     F     18  1.69  55.0\n",
       "3     M     18  1.85  72.8\n",
       "4     M     25  1.85  80.9\n",
       "5     F     19  1.58  55.0"
      ]
     },
     "execution_count": 37,
     "metadata": {},
     "output_type": "execute_result"
    }
   ],
   "source": [
    "estudantes_20 = pd.read_csv('https://www.ime.usp.br/~noproest/dados/questionario.txt', sep=r'\\s+', index_col='Id').iloc[0:20,1:5]\n",
    "estudantes_20.head()"
   ]
  },
  {
   "cell_type": "markdown",
   "id": "3f6974b4-c0a6-44d1-bb6c-0f34ad626fd5",
   "metadata": {},
   "source": [
    "# 2) ------------------------------------------------------------"
   ]
  },
  {
   "cell_type": "markdown",
   "id": "910f25d1-783c-4d21-8b78-533cf5ef9836",
   "metadata": {},
   "source": [
    "graficos representando os 4 tipos de variáveis e tirar conclusões."
   ]
  },
  {
   "cell_type": "code",
   "execution_count": 67,
   "id": "c11e7edd-0c76-468c-b624-43867de6712b",
   "metadata": {},
   "outputs": [
    {
     "data": {
      "text/plain": [
       "Text(0, 0.5, 'Peso')"
      ]
     },
     "execution_count": 67,
     "metadata": {},
     "output_type": "execute_result"
    },
    {
     "data": {
      "image/png": "[encoded data removed]",
      "text/plain": [
       "<Figure size 1000x500 with 4 Axes>"
      ]
     },
     "metadata": {},
     "output_type": "display_data"
    }
   ],
   "source": [
    "fig, axes = plt.subplots(nrows=2,ncols=2,figsize=(10,5))\n",
    "\n",
    "sexo = estudantes_20['Sexo'].value_counts()\n",
    "\n",
    "axes[0][0].pie(sexo, labels=sexo.index)\n",
    "\n",
    "axes[0][1].boxplot(estudantes_20['Idade'])\n",
    "axes[0][1].set_ylabel('Idade')\n",
    "\n",
    "axes[1][0].boxplot(estudantes_20['Alt'])\n",
    "axes[1][0].set_ylabel('Altura')\n",
    "\n",
    "axes[1][1].boxplot(estudantes_20['Peso'])\n",
    "axes[1][1].set_ylabel('Peso')"
   ]
  },
  {
   "cell_type": "markdown",
   "id": "cfb8d410-dfd0-40b5-a294-f9a855ff537e",
   "metadata": {},
   "source": [
    "Sexo = 75% dos alunos estudados são mulheres.\n",
    "\n",
    "Idade = possui coeficiente de assimetria positiva. Contém 2 alunos com valores de idade fora do limite estipulado, indicando um valor extremo positivo.\n",
    "\n",
    "Altura = Possui coeficiente de assimetria levemente positivo. Sem valores extremos e com mediana perto do normal.\n",
    "\n",
    "Peso = Possui também coeficiente de assimetria positivo. contém um valor extremo fora do limite estipulado."
   ]
  },
  {
   "cell_type": "markdown",
   "id": "b365294a-a9df-411d-87fa-bae9f82ab6df",
   "metadata": {},
   "source": [
    "# 3) ------------------------------------------------------------"
   ]
  },
  {
   "cell_type": "code",
   "execution_count": 80,
   "id": "018b3475-1acc-4c45-b531-197868581722",
   "metadata": {},
   "outputs": [
    {
     "data": {
      "text/html": [
       "<div>\n",
       "<style scoped>\n",
       "    .dataframe tbody tr th:only-of-type {\n",
       "        vertical-align: middle;\n",
       "    }\n",
       "\n",
       "    .dataframe tbody tr th {\n",
       "        vertical-align: top;\n",
       "    }\n",
       "\n",
       "    .dataframe thead th {\n",
       "        text-align: right;\n",
       "    }\n",
       "</style>\n",
       "<table border=\"1\" class=\"dataframe\">\n",
       "  <thead>\n",
       "    <tr style=\"text-align: right;\">\n",
       "      <th></th>\n",
       "      <th>Sexo</th>\n",
       "      <th>Idade</th>\n",
       "      <th>Idade_interv</th>\n",
       "      <th>Alt</th>\n",
       "      <th>Peso</th>\n",
       "    </tr>\n",
       "    <tr>\n",
       "      <th>Id</th>\n",
       "      <th></th>\n",
       "      <th></th>\n",
       "      <th></th>\n",
       "      <th></th>\n",
       "      <th></th>\n",
       "    </tr>\n",
       "  </thead>\n",
       "  <tbody>\n",
       "    <tr>\n",
       "      <th>1</th>\n",
       "      <td>F</td>\n",
       "      <td>17</td>\n",
       "      <td>menor que 18</td>\n",
       "      <td>1.60</td>\n",
       "      <td>60.5</td>\n",
       "    </tr>\n",
       "    <tr>\n",
       "      <th>2</th>\n",
       "      <td>F</td>\n",
       "      <td>18</td>\n",
       "      <td>entre 18 e 21</td>\n",
       "      <td>1.69</td>\n",
       "      <td>55.0</td>\n",
       "    </tr>\n",
       "    <tr>\n",
       "      <th>3</th>\n",
       "      <td>M</td>\n",
       "      <td>18</td>\n",
       "      <td>entre 18 e 21</td>\n",
       "      <td>1.85</td>\n",
       "      <td>72.8</td>\n",
       "    </tr>\n",
       "    <tr>\n",
       "      <th>4</th>\n",
       "      <td>M</td>\n",
       "      <td>25</td>\n",
       "      <td>entre 18 e 21</td>\n",
       "      <td>1.85</td>\n",
       "      <td>80.9</td>\n",
       "    </tr>\n",
       "    <tr>\n",
       "      <th>5</th>\n",
       "      <td>F</td>\n",
       "      <td>19</td>\n",
       "      <td>entre 18 e 21</td>\n",
       "      <td>1.58</td>\n",
       "      <td>55.0</td>\n",
       "    </tr>\n",
       "    <tr>\n",
       "      <th>6</th>\n",
       "      <td>M</td>\n",
       "      <td>19</td>\n",
       "      <td>entre 18 e 21</td>\n",
       "      <td>1.76</td>\n",
       "      <td>60.0</td>\n",
       "    </tr>\n",
       "    <tr>\n",
       "      <th>7</th>\n",
       "      <td>F</td>\n",
       "      <td>20</td>\n",
       "      <td>entre 18 e 21</td>\n",
       "      <td>1.60</td>\n",
       "      <td>58.0</td>\n",
       "    </tr>\n",
       "    <tr>\n",
       "      <th>8</th>\n",
       "      <td>F</td>\n",
       "      <td>18</td>\n",
       "      <td>entre 18 e 21</td>\n",
       "      <td>1.64</td>\n",
       "      <td>47.0</td>\n",
       "    </tr>\n",
       "    <tr>\n",
       "      <th>9</th>\n",
       "      <td>F</td>\n",
       "      <td>18</td>\n",
       "      <td>entre 18 e 21</td>\n",
       "      <td>1.62</td>\n",
       "      <td>57.8</td>\n",
       "    </tr>\n",
       "    <tr>\n",
       "      <th>10</th>\n",
       "      <td>F</td>\n",
       "      <td>17</td>\n",
       "      <td>menor que 18</td>\n",
       "      <td>1.64</td>\n",
       "      <td>58.0</td>\n",
       "    </tr>\n",
       "    <tr>\n",
       "      <th>11</th>\n",
       "      <td>F</td>\n",
       "      <td>18</td>\n",
       "      <td>entre 18 e 21</td>\n",
       "      <td>1.72</td>\n",
       "      <td>70.0</td>\n",
       "    </tr>\n",
       "    <tr>\n",
       "      <th>12</th>\n",
       "      <td>F</td>\n",
       "      <td>18</td>\n",
       "      <td>entre 18 e 21</td>\n",
       "      <td>1.66</td>\n",
       "      <td>54.0</td>\n",
       "    </tr>\n",
       "    <tr>\n",
       "      <th>13</th>\n",
       "      <td>F</td>\n",
       "      <td>21</td>\n",
       "      <td>entre 18 e 21</td>\n",
       "      <td>1.70</td>\n",
       "      <td>58.0</td>\n",
       "    </tr>\n",
       "    <tr>\n",
       "      <th>14</th>\n",
       "      <td>M</td>\n",
       "      <td>19</td>\n",
       "      <td>entre 18 e 21</td>\n",
       "      <td>1.78</td>\n",
       "      <td>68.5</td>\n",
       "    </tr>\n",
       "    <tr>\n",
       "      <th>15</th>\n",
       "      <td>F</td>\n",
       "      <td>18</td>\n",
       "      <td>entre 18 e 21</td>\n",
       "      <td>1.65</td>\n",
       "      <td>63.5</td>\n",
       "    </tr>\n",
       "    <tr>\n",
       "      <th>16</th>\n",
       "      <td>F</td>\n",
       "      <td>19</td>\n",
       "      <td>entre 18 e 21</td>\n",
       "      <td>1.63</td>\n",
       "      <td>47.4</td>\n",
       "    </tr>\n",
       "    <tr>\n",
       "      <th>17</th>\n",
       "      <td>F</td>\n",
       "      <td>17</td>\n",
       "      <td>menor que 18</td>\n",
       "      <td>1.82</td>\n",
       "      <td>66.0</td>\n",
       "    </tr>\n",
       "    <tr>\n",
       "      <th>18</th>\n",
       "      <td>M</td>\n",
       "      <td>18</td>\n",
       "      <td>entre 18 e 21</td>\n",
       "      <td>1.80</td>\n",
       "      <td>85.2</td>\n",
       "    </tr>\n",
       "    <tr>\n",
       "      <th>19</th>\n",
       "      <td>F</td>\n",
       "      <td>20</td>\n",
       "      <td>entre 18 e 21</td>\n",
       "      <td>1.60</td>\n",
       "      <td>54.5</td>\n",
       "    </tr>\n",
       "    <tr>\n",
       "      <th>20</th>\n",
       "      <td>F</td>\n",
       "      <td>18</td>\n",
       "      <td>entre 18 e 21</td>\n",
       "      <td>1.68</td>\n",
       "      <td>52.5</td>\n",
       "    </tr>\n",
       "  </tbody>\n",
       "</table>\n",
       "</div>"
      ],
      "text/plain": [
       "   Sexo  Idade   Idade_interv   Alt  Peso\n",
       "Id                                       \n",
       "1     F     17   menor que 18  1.60  60.5\n",
       "2     F     18  entre 18 e 21  1.69  55.0\n",
       "3     M     18  entre 18 e 21  1.85  72.8\n",
       "4     M     25  entre 18 e 21  1.85  80.9\n",
       "5     F     19  entre 18 e 21  1.58  55.0\n",
       "6     M     19  entre 18 e 21  1.76  60.0\n",
       "7     F     20  entre 18 e 21  1.60  58.0\n",
       "8     F     18  entre 18 e 21  1.64  47.0\n",
       "9     F     18  entre 18 e 21  1.62  57.8\n",
       "10    F     17   menor que 18  1.64  58.0\n",
       "11    F     18  entre 18 e 21  1.72  70.0\n",
       "12    F     18  entre 18 e 21  1.66  54.0\n",
       "13    F     21  entre 18 e 21  1.70  58.0\n",
       "14    M     19  entre 18 e 21  1.78  68.5\n",
       "15    F     18  entre 18 e 21  1.65  63.5\n",
       "16    F     19  entre 18 e 21  1.63  47.4\n",
       "17    F     17   menor que 18  1.82  66.0\n",
       "18    M     18  entre 18 e 21  1.80  85.2\n",
       "19    F     20  entre 18 e 21  1.60  54.5\n",
       "20    F     18  entre 18 e 21  1.68  52.5"
      ]
     },
     "execution_count": 80,
     "metadata": {},
     "output_type": "execute_result"
    }
   ],
   "source": [
    "e20 = estudantes_20.copy()\n",
    "\n",
    "e20['Idade_interv'] = e20['Idade'].apply(\n",
    "    lambda x: 'menor que 18' if x < 18 else ('entre 18 e 21' if ((x >= 18) | (x <= 21)) else 'maior que 21')\n",
    ")\n",
    "\n",
    "e20 = e20[['Sexo','Idade','Idade_interv','Alt','Peso']]\n",
    "e20"
   ]
  },
  {
   "cell_type": "markdown",
   "id": "e4b92bd0-fb3e-4870-b978-684909273618",
   "metadata": {},
   "source": [
    "gráfico de pizza para o intervalo de idade para todos alunos, só homens e só mulheres."
   ]
  },
  {
   "cell_type": "code",
   "execution_count": 99,
   "id": "d2379cba-44fe-4976-90ff-ca8d8ae4c402",
   "metadata": {},
   "outputs": [
    {
     "data": {
      "text/plain": [
       "Text(0.5, 1.0, 'Idade alunos do sexo feminino')"
      ]
     },
     "execution_count": 99,
     "metadata": {},
     "output_type": "execute_result"
    },
    {
     "data": {
      "image/png": "[encoded data removed]",
      "text/plain": [
       "<Figure size 1400x400 with 3 Axes>"
      ]
     },
     "metadata": {},
     "output_type": "display_data"
    }
   ],
   "source": [
    "fig, axes = plt.subplots(nrows=1,ncols=3,figsize=(14,4))\n",
    "\n",
    "#e20[e20['Idade_interv'] == 'menor que 18']['Idade_interv']\n",
    "\n",
    "axes[0].pie(e20['Idade_interv'].value_counts())\n",
    "axes[0].set_title('Idade Todos Alunos')\n",
    "\n",
    "axes[1].pie(e20[e20['Sexo'] == 'M']['Idade_interv'].value_counts())\n",
    "axes[1].set_title('Idade alunos do sexo masculino')\n",
    "\n",
    "axes[2].pie(e20[e20['Sexo'] == 'F']['Idade_interv'].value_counts())\n",
    "axes[2].set_title('Idade alunos do sexo feminino')"
   ]
  }
 ],
 "metadata": {
  "kernelspec": {
   "display_name": "Python 3 (ipykernel)",
   "language": "python",
   "name": "python3"
  },
  "language_info": {
   "codemirror_mode": {
    "name": "ipython",
    "version": 3
   },
   "file_extension": ".py",
   "mimetype": "text/x-python",
   "name": "python",
   "nbconvert_exporter": "python",
   "pygments_lexer": "ipython3",
   "version": "3.13.1"
  }
 },
 "nbformat": 4,
 "nbformat_minor": 5
}
