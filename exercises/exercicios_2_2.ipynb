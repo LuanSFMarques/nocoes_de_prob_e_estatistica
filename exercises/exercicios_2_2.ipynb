{
 "cells": [
  {
   "cell_type": "markdown",
   "id": "a1531bee-c050-45da-8e79-266b9e068980",
   "metadata": {},
   "source": [
    "pag 62"
   ]
  },
  {
   "cell_type": "markdown",
   "id": "26bd7872-c105-4053-9dea-8c65831c9d59",
   "metadata": {},
   "source": [
    "# 1)"
   ]
  },
  {
   "cell_type": "markdown",
   "id": "465a650f-c435-475b-984a-6236863b95a7",
   "metadata": {},
   "source": [
    "a) 0\n",
    "\n",
    "b) 0.8\n",
    "\n",
    "c) 0\n",
    "\n",
    "d) 0.7\n",
    "\n",
    "e) 0.2"
   ]
  },
  {
   "cell_type": "markdown",
   "id": "f5ae48d3-8f54-4a20-8de1-993f2ac80154",
   "metadata": {},
   "source": [
    "# 2)"
   ]
  },
  {
   "cell_type": "markdown",
   "id": "2bbbf429-68f0-4fc2-badf-f9a251c5be09",
   "metadata": {},
   "source": []
  }
 ],
 "metadata": {
  "kernelspec": {
   "display_name": "Python 3 (ipykernel)",
   "language": "python",
   "name": "python3"
  },
  "language_info": {
   "codemirror_mode": {
    "name": "ipython",
    "version": 3
   },
   "file_extension": ".py",
   "mimetype": "text/x-python",
   "name": "python",
   "nbconvert_exporter": "python",
   "pygments_lexer": "ipython3",
   "version": "3.13.1"
  }
 },
 "nbformat": 4,
 "nbformat_minor": 5
}
