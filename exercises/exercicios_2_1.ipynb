{
 "cells": [
  {
   "cell_type": "markdown",
   "id": "f5e43b5f-a197-4ef4-938c-75a26c4c57d0",
   "metadata": {},
   "source": [
    "# 1)"
   ]
  },
  {
   "cell_type": "markdown",
   "id": "a0e37d4a-3ba9-4d26-a3cb-a72db8f3179d",
   "metadata": {},
   "source": [
    "a) omega = {CC, CK, KK, KC}, 4 elementos"
   ]
  },
  {
   "cell_type": "markdown",
   "id": "0e3020cb-cb48-47ce-ac73-840986d667ea",
   "metadata": {},
   "source": [
    "b) omega = {PP, PI, II, IP}, 4 elementos"
   ]
  },
  {
   "cell_type": "markdown",
   "id": "6868afb0-685e-458c-9a49-267b7aed10fc",
   "metadata": {},
   "source": [
    "c) omega = {VVV, VVA, VAV, VAA, AAA, AAV, AVA, AVV}, 8 elementos"
   ]
  },
  {
   "cell_type": "markdown",
   "id": "1cdb0275-6d25-49eb-a9dc-801802356391",
   "metadata": {},
   "source": [
    "d) omega = {2,3,4,5,6,7,8,9,10,11,12}, 11 elementos"
   ]
  },
  {
   "cell_type": "markdown",
   "id": "a2c5fbb2-584d-4ef9-9adc-8adf82c3321a",
   "metadata": {},
   "source": [
    "e) omega = {MMM,MMF,MFM,MFF,FFF,FFM,FMF,FMM}, 8 elementos"
   ]
  },
  {
   "cell_type": "markdown",
   "id": "b22d75b7-e7c9-4903-8bc2-ce2e606768e8",
   "metadata": {},
   "source": [
    "f) omega = {0,...,20}, 21 elementos"
   ]
  },
  {
   "cell_type": "markdown",
   "id": "f2becbb1-ea0e-4f3b-be58-8c23b75f583e",
   "metadata": {},
   "source": [
    "f) omega = {C, KC, KKC, KKKC, KKKKC, ...}, infinitos elementos"
   ]
  },
  {
   "cell_type": "markdown",
   "id": "c3377654-d7e3-4899-b2a2-84ae415c7050",
   "metadata": {},
   "source": [
    "# 2)"
   ]
  },
  {
   "cell_type": "markdown",
   "id": "1783ef52-4a27-4593-b4bc-50a3a0c75503",
   "metadata": {},
   "source": [
    "a) a uniao b\n",
    "\n",
    "b) a intersec b^c\n",
    "\n",
    "c) a^c intersec b^c\n",
    "\n",
    "d) (a intersec b^c) uniao (a^c intersec b)\n"
   ]
  },
  {
   "cell_type": "markdown",
   "id": "a7978d6e-71d8-4273-8675-2136dcb5268c",
   "metadata": {},
   "source": [
    "# 3)"
   ]
  },
  {
   "cell_type": "markdown",
   "id": "69d9eaea-833a-405e-9357-bc712ca9b519",
   "metadata": {},
   "source": [
    "a)  "
   ]
  }
 ],
 "metadata": {
  "kernelspec": {
   "display_name": "Python 3 (ipykernel)",
   "language": "python",
   "name": "python3"
  },
  "language_info": {
   "codemirror_mode": {
    "name": "ipython",
    "version": 3
   },
   "file_extension": ".py",
   "mimetype": "text/x-python",
   "name": "python",
   "nbconvert_exporter": "python",
   "pygments_lexer": "ipython3",
   "version": "3.13.1"
  }
 },
 "nbformat": 4,
 "nbformat_minor": 5
}
