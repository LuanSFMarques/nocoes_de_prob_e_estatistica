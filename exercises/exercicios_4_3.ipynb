{
 "cells": [
  {
   "cell_type": "code",
   "execution_count": 109,
   "id": "382da321-2207-4a30-806f-ac8ba8b8a5aa",
   "metadata": {},
   "outputs": [],
   "source": [
    "import pandas as pd\n",
    "import numpy as np\n",
    "import matplotlib.pyplot as plt\n",
    "import math\n",
    "from scipy.stats import binom"
   ]
  },
  {
   "cell_type": "markdown",
   "id": "7e378ac0-f551-457f-b7e2-e112fb2157a4",
   "metadata": {},
   "source": [
    "# Exercício 2"
   ]
  },
  {
   "cell_type": "code",
   "execution_count": 64,
   "id": "c9e560d8-797a-4622-a375-82d99da18351",
   "metadata": {},
   "outputs": [
    {
     "name": "stdout",
     "output_type": "stream",
     "text": [
      "Mean: 86.2\n",
      "Variance: 16.36\n",
      "Standard Deviation: 4.26\n"
     ]
    }
   ],
   "source": [
    "# Calcule a média, variação e desvio padrão do batimento cardiaco de certos alunos\n",
    "a = [80,91,84,86,93,88,80,89,85,86]\n",
    "\n",
    "ser = pd.Series(a)\n",
    "\n",
    "ser_dev = (ser**2).mean() - (ser.mean()**2)\n",
    "\n",
    "ser_std = math.sqrt(ser_dev)\n",
    "\n",
    "print(f'Mean: {ser.mean()}\\nVariance: {round(ser_dev, 2)}\\nStandard Deviation: {round(ser_std, 2)}')"
   ]
  },
  {
   "cell_type": "markdown",
   "id": "0374c185-f315-4025-80a8-82f3c98406e2",
   "metadata": {},
   "source": [
    "# Exercício 3"
   ]
  },
  {
   "cell_type": "code",
   "execution_count": 69,
   "id": "8bacbea1-7961-4388-8bdb-9822f512f888",
   "metadata": {},
   "outputs": [
    {
     "data": {
      "text/plain": [
       "1.3702189606044766"
      ]
     },
     "execution_count": 69,
     "metadata": {},
     "output_type": "execute_result"
    }
   ],
   "source": [
    "# Determine o desvio padrão dos veículos testados de mesmo modelo e ano, olhando o parâmetro de km/L\n",
    "ser = pd.DataFrame({\"Faixas\":[7.5, 8.5, 9.5, 10.5, 11.5], \"Freq\":[27, 29, 46, 43, 55]})\n",
    "\n",
    "ser['Freq'] = ser['Freq']/ser['Freq'].sum()\n",
    "ser_mean = (ser['Freq']*ser['Faixas']).sum()\n",
    "ser_dev = ((ser['Faixas']**2)*ser['Freq']).sum() - (ser_mean**2)\n",
    "ser_std = math.sqrt(ser_dev)\n",
    "\n",
    "ser_std"
   ]
  },
  {
   "cell_type": "markdown",
   "id": "a583d2af-6f9d-4e15-aeb1-f55edc3edb88",
   "metadata": {},
   "source": [
    "# Exercício 4"
   ]
  },
  {
   "cell_type": "code",
   "execution_count": 79,
   "id": "b13fc0fc-f82a-4d20-8986-0b311f1b7995",
   "metadata": {},
   "outputs": [
    {
     "name": "stdout",
     "output_type": "stream",
     "text": [
      "Mean: 1.19\n",
      "Deviation: 1.15\n"
     ]
    }
   ],
   "source": [
    "# Determine a média e a variância do numero de furtos em um bairro em sp\n",
    "df = pd.DataFrame({\"Furtos\":[0,1,2,3,4], \"Freq\":[1/4,1/2,1/8,1/16,1/16]})\n",
    "df_media = (df['Furtos']*df['Freq']).sum()\n",
    "\n",
    "df_vari = ((df['Furtos']**2)*df['Freq']).sum() - (df_media**2)\n",
    "df_vari\n",
    "\n",
    "print(f\"Mean: {round(df_media, 2)}\\nDeviation: {round(df_vari, 2)}\")"
   ]
  },
  {
   "cell_type": "markdown",
   "id": "ee2b1bbb-0c2d-47c4-89c2-7704871d0928",
   "metadata": {},
   "source": [
    "# Exercício 5"
   ]
  },
  {
   "cell_type": "code",
   "execution_count": 105,
   "id": "e2bc2ab8-657b-45a6-a920-49e9b4c63056",
   "metadata": {},
   "outputs": [
    {
     "name": "stdout",
     "output_type": "stream",
     "text": [
      "Média: -2.5\n",
      "Mediana: -5\n",
      "Moda: -5\n",
      "Variância: 14.583333333333329\n"
     ]
    }
   ],
   "source": [
    "# Determine moda, mediana, moda e variancia da variável lucro por jogada de dado sabendo que ele gasta 5 ao jogar, recebe 10 ao tirar 6 no dado,\n",
    "# recebe 5 ao tirar 5 no dado, e recebe nada no restante\n",
    "\n",
    "df = pd.DataFrame({\"Lucro\":[-5,0,5], \"Freq\":[4/6,1/6,1/6]})\n",
    "df = df.sort_values('Lucro')\n",
    "\n",
    "df_media = (df['Lucro']*df['Freq']).sum()\n",
    "print(f\"Média: {df_media}\")\n",
    "\n",
    "df_mediana = -5\n",
    "print(f\"Mediana: {df_mediana}\")\n",
    "\n",
    "df_moda = df['Lucro'].iloc[df['Freq'].idxmax()]\n",
    "print(f\"Moda: {df_moda}\")\n",
    "\n",
    "df_var = ((df['Lucro']**2)*df['Freq']).sum() - df_media**2\n",
    "print(f\"Variância: {df_var}\")"
   ]
  },
  {
   "cell_type": "markdown",
   "id": "bf9aa751-e833-4e93-8e31-7ee36581a447",
   "metadata": {},
   "source": [
    "# Exercício 6"
   ]
  },
  {
   "cell_type": "code",
   "execution_count": 123,
   "id": "a7ca2ca2-2ef2-442e-81e6-6dff3be86588",
   "metadata": {},
   "outputs": [
    {
     "name": "stdout",
     "output_type": "stream",
     "text": [
      "Média: 2.4\n",
      "Variância: 0.96\n"
     ]
    }
   ],
   "source": [
    "probs = []\n",
    "for i in range(4+1):\n",
    "    probs.append(binom.pmf(k=i, n=4, p=.6))\n",
    "\n",
    "df = pd.DataFrame({\"Criancas\":[0,1,2,3,4], \"Prob\":probs})\n",
    "\n",
    "df_media = (df['Criancas']*df['Prob']).sum()\n",
    "print(f\"Média: {round(df_media, 2)}\")\n",
    "\n",
    "df_var = ((df['Criancas']**2)*df['Prob']).sum() - df_media**2\n",
    "print(f\"Variância: {round(df_var, 2)}\")"
   ]
  }
 ],
 "metadata": {
  "kernelspec": {
   "display_name": "Python 3 (ipykernel)",
   "language": "python",
   "name": "python3"
  },
  "language_info": {
   "codemirror_mode": {
    "name": "ipython",
    "version": 3
   },
   "file_extension": ".py",
   "mimetype": "text/x-python",
   "name": "python",
   "nbconvert_exporter": "python",
   "pygments_lexer": "ipython3",
   "version": "3.13.1"
  }
 },
 "nbformat": 4,
 "nbformat_minor": 5
}
