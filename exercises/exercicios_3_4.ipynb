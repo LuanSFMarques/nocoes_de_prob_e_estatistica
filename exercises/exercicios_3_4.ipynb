{
 "cells": [
  {
   "cell_type": "code",
   "execution_count": 2,
   "id": "f43ab246-71aa-46a0-b700-5dbe66b692e3",
   "metadata": {},
   "outputs": [],
   "source": [
    "import math\n",
    "from scipy.stats import binom, geom, poisson, hypergeom\n",
    "import pandas as pd\n",
    "import matplotlib.pyplot as plt\n",
    "import numpy as np\n",
    "import random"
   ]
  },
  {
   "cell_type": "markdown",
   "id": "22b27946-59cc-47d6-8154-66a6bc6820fb",
   "metadata": {},
   "source": [
    "# Exercício 17"
   ]
  },
  {
   "cell_type": "code",
   "execution_count": 18,
   "id": "96dc6093-cf16-488d-84f8-a69fbcd7016a",
   "metadata": {},
   "outputs": [
    {
     "data": {
      "text/plain": [
       "np.float64(0.9198192339390516)"
      ]
     },
     "execution_count": 18,
     "metadata": {},
     "output_type": "execute_result"
    }
   ],
   "source": [
    "# a) probabilidade de no minimo 2 ocorrerem\n",
    "f = lambda k: binom.pmf(k, 15, .25)\n",
    "sum(f(k) for k in range(2, 16))"
   ]
  },
  {
   "cell_type": "code",
   "execution_count": 25,
   "id": "16fd39e0-95af-4478-9b1d-80c1be71ab82",
   "metadata": {},
   "outputs": [
    {
     "data": {
      "text/plain": [
       "np.float64(0.46128687635064136)"
      ]
     },
     "execution_count": 25,
     "metadata": {},
     "output_type": "execute_result"
    }
   ],
   "source": [
    "# b) probabilidade de acontecer no minimo 12 vezes a possibilidade contra (no máximo 3 vezes de ocorrer a probabilidade principal)\n",
    "f = lambda k: binom.pmf(k, 15, .25)\n",
    "sum(f(k) for k in range(0,4))"
   ]
  },
  {
   "cell_type": "code",
   "execution_count": 41,
   "id": "7f802870-4c9c-4037-930e-e3e52d6ebb09",
   "metadata": {},
   "outputs": [
    {
     "data": {
      "text/plain": [
       "np.float64(0.6183794312700834)"
      ]
     },
     "execution_count": 41,
     "metadata": {},
     "output_type": "execute_result"
    }
   ],
   "source": [
    "# c) havendo mais de 5 esportistas, obtermos menos de 7\n",
    "# P(X<7 | X>5) = P(X>5 | X<7) / p(x<7)\n",
    "\n",
    "binom.pmf(6,15,.25) / (1 - binom.cdf(5, 15, .25))"
   ]
  },
  {
   "cell_type": "markdown",
   "id": "41704ddd-7429-44a1-8f81-37a72002f0be",
   "metadata": {},
   "source": [
    "# Exercício 19"
   ]
  },
  {
   "cell_type": "code",
   "execution_count": 53,
   "id": "9271d865-d772-43a3-a6b8-868c7ab31c9d",
   "metadata": {},
   "outputs": [
    {
     "data": {
      "text/plain": [
       "np.float64(0.20589113209464913)"
      ]
     },
     "execution_count": 53,
     "metadata": {},
     "output_type": "execute_result"
    }
   ],
   "source": [
    "# a) todas as 15 vigas serem boas para uso\n",
    "binom.pmf(15, 15, 0.9)"
   ]
  },
  {
   "cell_type": "code",
   "execution_count": 73,
   "id": "2a9b43b6-ced3-4eda-ba56-316691f5a217",
   "metadata": {},
   "outputs": [
    {
     "data": {
      "text/plain": [
       "np.float64(0.8159389308936091)"
      ]
     },
     "execution_count": 73,
     "metadata": {},
     "output_type": "execute_result"
    }
   ],
   "source": [
    "# b) no mínimo 13 serem boas\n",
    "binom.pmf(15, 15, .9) + binom.pmf(14, 15, .9) + binom.pmf(13, 15, .9)\n",
    "\n",
    "# ou\n",
    "\n",
    "1 - binom.cdf(12, 15, .9)"
   ]
  },
  {
   "cell_type": "markdown",
   "id": "3df682fb-d0bd-407e-93d4-3119ff3a5a51",
   "metadata": {},
   "source": [
    "# Exercício 21"
   ]
  },
  {
   "cell_type": "code",
   "execution_count": 78,
   "id": "d90b5735-6ee7-4f5f-bfa7-ad0f6909df41",
   "metadata": {},
   "outputs": [
    {
     "data": {
      "text/plain": [
       "np.float64(0.8753479805169189)"
      ]
     },
     "execution_count": 78,
     "metadata": {},
     "output_type": "execute_result"
    }
   ],
   "source": [
    "# a) com poisson de 5, probabilidade de ocorrer mais de 2\n",
    "1 - poisson.cdf(2, 5)"
   ]
  },
  {
   "cell_type": "code",
   "execution_count": 101,
   "id": "bab07140-bbf3-49e9-b4d3-75c0b65fc249",
   "metadata": {},
   "outputs": [
    {
     "data": {
      "text/plain": [
       "np.float64(0.01770701755263633)"
      ]
     },
     "execution_count": 101,
     "metadata": {},
     "output_type": "execute_result"
    }
   ],
   "source": [
    "# b) se em 1 hora se espera 5 chamadas, qual prob de ter 50 chamadas em 8 horas (esperando 40 pq 5 * 8 é 40)\n",
    "poisson.pmf(50, 5 * 8)"
   ]
  },
  {
   "cell_type": "code",
   "execution_count": 122,
   "id": "71c6d0dc-c6dd-4a5a-bb0a-bf3029d25b76",
   "metadata": {},
   "outputs": [
    {
     "data": {
      "text/plain": [
       "np.float64(4.248354255291589e-18)"
      ]
     },
     "execution_count": 122,
     "metadata": {},
     "output_type": "execute_result"
    }
   ],
   "source": [
    "# c) é raro receber em 1 dia de trabalho (8 horas) nenhuma ligação?\n",
    "poisson.pmf(0, 40) # é muito raro\n",
    "\n",
    "# ou simplesmente ( e ^-40 ) como um numero muito baixo"
   ]
  },
  {
   "cell_type": "markdown",
   "id": "afdd3236-d759-453a-a5f7-54ef1e78136c",
   "metadata": {},
   "source": [
    "# Exercício 23"
   ]
  },
  {
   "cell_type": "code",
   "execution_count": 134,
   "id": "513ebbeb-0858-4215-a9a8-10b52ad36f2b",
   "metadata": {},
   "outputs": [
    {
     "data": {
      "text/plain": [
       "np.float64(0.029936846961918936)"
      ]
     },
     "execution_count": 134,
     "metadata": {},
     "output_type": "execute_result"
    }
   ],
   "source": [
    "# a) probabilidade de sucesso na 11 tentativa\n",
    "geom.pmf(11,.05)"
   ]
  },
  {
   "cell_type": "code",
   "execution_count": 138,
   "id": "78ccbc4a-ad98-4397-bb17-cabf34625e97",
   "metadata": {},
   "outputs": [
    {
     "data": {
      "text/plain": [
       "np.float64(0.4632912301597534)"
      ]
     },
     "execution_count": 138,
     "metadata": {},
     "output_type": "execute_result"
    }
   ],
   "source": [
    "# b) probabilidade de sucesso depois de pelo menos 16 tentativas\n",
    "1 - geom.cdf(15, .05)"
   ]
  },
  {
   "cell_type": "code",
   "execution_count": 193,
   "id": "c91b54b8-ac8d-4198-802e-0a093ed16631",
   "metadata": {},
   "outputs": [
    {
     "data": {
      "text/plain": [
       "np.float64(0.6302494097246093)"
      ]
     },
     "execution_count": 193,
     "metadata": {},
     "output_type": "execute_result"
    }
   ],
   "source": [
    "# c) \n",
    "1 - geom.cdf(9,.05)"
   ]
  },
  {
   "cell_type": "markdown",
   "id": "7e0444d8-429a-49a4-83dc-624e40fe1e5a",
   "metadata": {},
   "source": [
    "# Exercício 25"
   ]
  },
  {
   "cell_type": "code",
   "execution_count": 230,
   "id": "44f6ba25-064c-48f1-a373-04e2dd5231ea",
   "metadata": {},
   "outputs": [
    {
     "data": {
      "text/plain": [
       "np.float64(0.99757)"
      ]
     },
     "execution_count": 230,
     "metadata": {},
     "output_type": "execute_result"
    }
   ],
   "source": [
    "# a) probabilidade de durar menos de 500 (sabendo que a prob de durar 100 é 0.7)\n",
    "geom.cdf(5, .7) # x < 5"
   ]
  },
  {
   "cell_type": "code",
   "execution_count": 270,
   "id": "567f6138-54a6-4525-a08b-306f65bafb36",
   "metadata": {},
   "outputs": [
    {
     "data": {
      "text/plain": [
       "np.float64(0.018900000000000007)"
      ]
     },
     "execution_count": 270,
     "metadata": {},
     "output_type": "execute_result"
    }
   ],
   "source": [
    "# b)\n",
    "geom.pmf(4, .7)"
   ]
  },
  {
   "cell_type": "code",
   "execution_count": 274,
   "id": "6d31ebaf-ae3a-4b07-b25c-1191ca663fc5",
   "metadata": {},
   "outputs": [
    {
     "data": {
      "text/plain": [
       "np.float64(0.0024299999999990835)"
      ]
     },
     "execution_count": 274,
     "metadata": {},
     "output_type": "execute_result"
    }
   ],
   "source": [
    "# c)sabendo que dura mais de 300, durar mais que 800\n",
    "a = 1 - geom.cdf(4, .7) # x > 300\n",
    "b = 1 - geom.cdf(9, .7) # x > 800\n",
    "b / a # P(X > 800 | X > 300) = P(X > 800) / P(X > 300)"
   ]
  },
  {
   "cell_type": "markdown",
   "id": "64c41612-53f6-4ea5-9837-2fe94459ea01",
   "metadata": {},
   "source": [
    "# Exercício 27"
   ]
  },
  {
   "cell_type": "code",
   "execution_count": 21,
   "id": "47a1f01c-fb32-4568-95ba-3ab7aa6e8139",
   "metadata": {},
   "outputs": [
    {
     "data": {
      "text/plain": [
       "np.float64(0.013209494324045407)"
      ]
     },
     "execution_count": 21,
     "metadata": {},
     "output_type": "execute_result"
    }
   ],
   "source": [
    "# a) em 20 livros há 4 defeituosos, qual a chance de 4 meninas pegarem 3 livros defeituosos? (sem reposição)\n",
    "hypergeom.pmf(3, 20, 4, 4)"
   ]
  },
  {
   "cell_type": "code",
   "execution_count": 26,
   "id": "a35d79a0-19db-4649-897f-bbce5a6056f1",
   "metadata": {},
   "outputs": [
    {
     "data": {
      "text/plain": [
       "(np.float64(0.37564499484004127), np.float64(0.0002063983488132095))"
      ]
     },
     "execution_count": 26,
     "metadata": {},
     "output_type": "execute_result"
    }
   ],
   "source": [
    "## b) qual a probabilidade de, após a visita das garotas, conter a mesma quantidade de livros defeituosos? E a probabilidade de conter nenhum livro defeituoso?\n",
    "\n",
    "# k = ? # Número de livros defeituosos pegos\n",
    "M = 20   # total de livros\n",
    "n = 4    # livros defeituosos\n",
    "N = 4    # livros escolhidos\n",
    "\n",
    "hypergeom.pmf(0, M, n, N), hypergeom.pmf(4, M, n, N)"
   ]
  },
  {
   "cell_type": "markdown",
   "id": "e8dd8d5a-012c-4c38-bce7-37d66a8c961e",
   "metadata": {},
   "source": [
    "# Exercício 28 (no computador)"
   ]
  },
  {
   "cell_type": "code",
   "execution_count": 77,
   "id": "6e4de8e5-c348-4d63-8d09-990fdf0eb857",
   "metadata": {},
   "outputs": [
    {
     "data": {
      "text/html": [
       "<div>\n",
       "<style scoped>\n",
       "    .dataframe tbody tr th:only-of-type {\n",
       "        vertical-align: middle;\n",
       "    }\n",
       "\n",
       "    .dataframe tbody tr th {\n",
       "        vertical-align: top;\n",
       "    }\n",
       "\n",
       "    .dataframe thead th {\n",
       "        text-align: right;\n",
       "    }\n",
       "</style>\n",
       "<table border=\"1\" class=\"dataframe\">\n",
       "  <thead>\n",
       "    <tr style=\"text-align: right;\">\n",
       "      <th></th>\n",
       "      <th>Exerc</th>\n",
       "      <th>count</th>\n",
       "      <th>freq</th>\n",
       "    </tr>\n",
       "  </thead>\n",
       "  <tbody>\n",
       "    <tr>\n",
       "      <th>0</th>\n",
       "      <td>0</td>\n",
       "      <td>8</td>\n",
       "      <td>0.16</td>\n",
       "    </tr>\n",
       "    <tr>\n",
       "      <th>6</th>\n",
       "      <td>1</td>\n",
       "      <td>3</td>\n",
       "      <td>0.06</td>\n",
       "    </tr>\n",
       "    <tr>\n",
       "      <th>1</th>\n",
       "      <td>2</td>\n",
       "      <td>8</td>\n",
       "      <td>0.16</td>\n",
       "    </tr>\n",
       "    <tr>\n",
       "      <th>3</th>\n",
       "      <td>3</td>\n",
       "      <td>6</td>\n",
       "      <td>0.12</td>\n",
       "    </tr>\n",
       "    <tr>\n",
       "      <th>5</th>\n",
       "      <td>4</td>\n",
       "      <td>4</td>\n",
       "      <td>0.08</td>\n",
       "    </tr>\n",
       "    <tr>\n",
       "      <th>2</th>\n",
       "      <td>5</td>\n",
       "      <td>8</td>\n",
       "      <td>0.16</td>\n",
       "    </tr>\n",
       "    <tr>\n",
       "      <th>7</th>\n",
       "      <td>6</td>\n",
       "      <td>3</td>\n",
       "      <td>0.06</td>\n",
       "    </tr>\n",
       "    <tr>\n",
       "      <th>4</th>\n",
       "      <td>7</td>\n",
       "      <td>5</td>\n",
       "      <td>0.10</td>\n",
       "    </tr>\n",
       "    <tr>\n",
       "      <th>8</th>\n",
       "      <td>8</td>\n",
       "      <td>3</td>\n",
       "      <td>0.06</td>\n",
       "    </tr>\n",
       "    <tr>\n",
       "      <th>9</th>\n",
       "      <td>10</td>\n",
       "      <td>2</td>\n",
       "      <td>0.04</td>\n",
       "    </tr>\n",
       "  </tbody>\n",
       "</table>\n",
       "</div>"
      ],
      "text/plain": [
       "   Exerc  count  freq\n",
       "0      0      8  0.16\n",
       "6      1      3  0.06\n",
       "1      2      8  0.16\n",
       "3      3      6  0.12\n",
       "5      4      4  0.08\n",
       "2      5      8  0.16\n",
       "7      6      3  0.06\n",
       "4      7      5  0.10\n",
       "8      8      3  0.06\n",
       "9     10      2  0.04"
      ]
     },
     "execution_count": 77,
     "metadata": {},
     "output_type": "execute_result"
    }
   ],
   "source": [
    "# a) Para a tabela 1.1 no cap 1, construa uma tabela de frequencia para a variável Exerc, horas de atividade física por semana.\n",
    "df_e28 = pd.read_csv('https://www.ime.usp.br/~noproest/dados/questionario.txt', sep=r\"\\s+\", usecols=[\"Exerc\"]).value_counts().reset_index()\n",
    "df_e28['freq'] = round(df_e28['count']/df_e28['count'].sum(), 2)\n",
    "df_e28 = df_e28.sort_values(\"Exerc\")\n",
    "df_e28"
   ]
  },
  {
   "cell_type": "code",
   "execution_count": 78,
   "id": "a8f3793d-1fb5-4c0e-9bab-b7458e6ec34a",
   "metadata": {},
   "outputs": [
    {
     "data": {
      "text/plain": [
       "np.float64(0.08989975268553303)"
      ]
     },
     "execution_count": 78,
     "metadata": {},
     "output_type": "execute_result"
    }
   ],
   "source": [
    "# b) 5 pessoas selecionadas ao acaso, qual a probabilidade de que 3 delas pratiquem, pelo menos, 6 horas de atividades semanais\n",
    "\n",
    "m = df_e28['count'].sum() # total de pessoas\n",
    "n = df_e28[df_e28['Exerc']>= 6]['count'].sum()# Pessoas que praticam mais de 6 horas de exerc\n",
    "N = 5 # pessoas sorteadas\n",
    "k = 3 # certo numero de pessoas dentre as pessoas sorteadas que satisfazem uma condição\n",
    "\n",
    "hypergeom.pmf(k,m,n,N)"
   ]
  },
  {
   "cell_type": "code",
   "execution_count": 79,
   "id": "128de57f-54f0-4d7e-92f4-010343d48ba4",
   "metadata": {},
   "outputs": [
    {
     "data": {
      "text/plain": [
       "np.float64(0.0006074307613887368)"
      ]
     },
     "execution_count": 79,
     "metadata": {},
     "output_type": "execute_result"
    }
   ],
   "source": [
    "# c) repita o item b para calcular o número de pessoas que praticam pelo menos 6 horas para as 5 selecionadas\n",
    "\n",
    "hypergeom.pmf(N,m,n,N)"
   ]
  },
  {
   "cell_type": "markdown",
   "id": "2aeb4c18-4ab2-4fa1-bc27-b58bc787993a",
   "metadata": {},
   "source": [
    "# Exercício 29 (no computador)"
   ]
  },
  {
   "cell_type": "code",
   "execution_count": 118,
   "id": "690ab1a9-ae31-4940-ba71-c7f33c209677",
   "metadata": {},
   "outputs": [
    {
     "data": {
      "text/html": [
       "<div>\n",
       "<style scoped>\n",
       "    .dataframe tbody tr th:only-of-type {\n",
       "        vertical-align: middle;\n",
       "    }\n",
       "\n",
       "    .dataframe tbody tr th {\n",
       "        vertical-align: top;\n",
       "    }\n",
       "\n",
       "    .dataframe thead th {\n",
       "        text-align: right;\n",
       "    }\n",
       "</style>\n",
       "<table border=\"1\" class=\"dataframe\">\n",
       "  <thead>\n",
       "    <tr style=\"text-align: right;\">\n",
       "      <th></th>\n",
       "      <th>Alt</th>\n",
       "      <th>Acima_Mediana</th>\n",
       "    </tr>\n",
       "  </thead>\n",
       "  <tbody>\n",
       "    <tr>\n",
       "      <th>0</th>\n",
       "      <td>1.60</td>\n",
       "      <td>0</td>\n",
       "    </tr>\n",
       "    <tr>\n",
       "      <th>1</th>\n",
       "      <td>1.69</td>\n",
       "      <td>1</td>\n",
       "    </tr>\n",
       "    <tr>\n",
       "      <th>2</th>\n",
       "      <td>1.85</td>\n",
       "      <td>1</td>\n",
       "    </tr>\n",
       "    <tr>\n",
       "      <th>3</th>\n",
       "      <td>1.85</td>\n",
       "      <td>1</td>\n",
       "    </tr>\n",
       "    <tr>\n",
       "      <th>4</th>\n",
       "      <td>1.58</td>\n",
       "      <td>0</td>\n",
       "    </tr>\n",
       "  </tbody>\n",
       "</table>\n",
       "</div>"
      ],
      "text/plain": [
       "    Alt  Acima_Mediana\n",
       "0  1.60              0\n",
       "1  1.69              1\n",
       "2  1.85              1\n",
       "3  1.85              1\n",
       "4  1.58              0"
      ]
     },
     "execution_count": 118,
     "metadata": {},
     "output_type": "execute_result"
    }
   ],
   "source": [
    "# a 1)\n",
    "# Criando lista com valores de alturas acima e igual/abaixo da mediana\n",
    "df_e29 = pd.read_csv('https://www.ime.usp.br/~noproest/dados/questionario.txt', sep=r\"\\s+\", usecols=[\"Alt\"])\n",
    "df_e29['Acima_Mediana'] = (df_e29['Alt'] > df_e29['Alt'].quantile(.5)).astype(int)\n",
    "df_e29.head()"
   ]
  },
  {
   "cell_type": "code",
   "execution_count": 117,
   "id": "c480319d-1b5a-4624-9fe7-43867ccf9fe2",
   "metadata": {},
   "outputs": [
    {
     "data": {
      "text/plain": [
       "Text(0.5, -0.01, 'Legenda: 0 = abaixo da mediana, 1 = acima da mediana')"
      ]
     },
     "execution_count": 117,
     "metadata": {},
     "output_type": "execute_result"
    },
    {
     "data": {
      "image/png": "[encoded data removed]",
      "text/plain": [
       "<Figure size 640x480 with 1 Axes>"
      ]
     },
     "metadata": {},
     "output_type": "display_data"
    }
   ],
   "source": [
    "# a 2)\n",
    "# Criando tabela de frequencia para esses valores 0 e 1.\n",
    "df_med_freq = df_e29['Acima_Mediana'].value_counts().reset_index()\n",
    "df_med_freq['freq'] = df_med_freq['count'] / df_med_freq['count'].sum()\n",
    "df_med_freq.sort_values(\"Acima_Mediana\")\n",
    "\n",
    "# Plotando a tabela de frequencia criada\n",
    "plt.pie(df_med_freq['freq'], labels=df_med_freq['Acima_Mediana'], autopct='%1.1f%%')\n",
    "\n",
    "plt.title('Distribuição Acima da Mediana')\n",
    "plt.suptitle('Legenda: 0 = abaixo da mediana, 1 = acima da mediana', fontsize=10, y=-0.01)"
   ]
  },
  {
   "cell_type": "code",
   "execution_count": 136,
   "id": "30f37a7d-03fe-460b-945a-ae5d7a4a28fe",
   "metadata": {},
   "outputs": [
    {
     "data": {
      "text/plain": [
       "np.float64(0.20947265625000022)"
      ]
     },
     "execution_count": 136,
     "metadata": {},
     "output_type": "execute_result"
    }
   ],
   "source": [
    "# b)\n",
    "# X = somatória de yi onde yi é o número de alunos altos\n",
    "\n",
    "binom.pmf(6, 13, .5)"
   ]
  },
  {
   "cell_type": "code",
   "execution_count": 165,
   "id": "98190c99-98eb-4ce0-bc2e-a70d62cef1f9",
   "metadata": {},
   "outputs": [
    {
     "data": {
      "text/html": [
       "<div>\n",
       "<style scoped>\n",
       "    .dataframe tbody tr th:only-of-type {\n",
       "        vertical-align: middle;\n",
       "    }\n",
       "\n",
       "    .dataframe tbody tr th {\n",
       "        vertical-align: top;\n",
       "    }\n",
       "\n",
       "    .dataframe thead th {\n",
       "        text-align: right;\n",
       "    }\n",
       "</style>\n",
       "<table border=\"1\" class=\"dataframe\">\n",
       "  <thead>\n",
       "    <tr style=\"text-align: right;\">\n",
       "      <th></th>\n",
       "      <th>Alunos Altos</th>\n",
       "      <th>count</th>\n",
       "      <th>freq</th>\n",
       "    </tr>\n",
       "  </thead>\n",
       "  <tbody>\n",
       "    <tr>\n",
       "      <th>8</th>\n",
       "      <td>2</td>\n",
       "      <td>3</td>\n",
       "      <td>0.03</td>\n",
       "    </tr>\n",
       "    <tr>\n",
       "      <th>7</th>\n",
       "      <td>3</td>\n",
       "      <td>4</td>\n",
       "      <td>0.04</td>\n",
       "    </tr>\n",
       "    <tr>\n",
       "      <th>5</th>\n",
       "      <td>4</td>\n",
       "      <td>8</td>\n",
       "      <td>0.08</td>\n",
       "    </tr>\n",
       "    <tr>\n",
       "      <th>3</th>\n",
       "      <td>5</td>\n",
       "      <td>11</td>\n",
       "      <td>0.11</td>\n",
       "    </tr>\n",
       "    <tr>\n",
       "      <th>0</th>\n",
       "      <td>6</td>\n",
       "      <td>29</td>\n",
       "      <td>0.29</td>\n",
       "    </tr>\n",
       "    <tr>\n",
       "      <th>2</th>\n",
       "      <td>7</td>\n",
       "      <td>15</td>\n",
       "      <td>0.15</td>\n",
       "    </tr>\n",
       "    <tr>\n",
       "      <th>1</th>\n",
       "      <td>8</td>\n",
       "      <td>15</td>\n",
       "      <td>0.15</td>\n",
       "    </tr>\n",
       "    <tr>\n",
       "      <th>4</th>\n",
       "      <td>9</td>\n",
       "      <td>9</td>\n",
       "      <td>0.09</td>\n",
       "    </tr>\n",
       "    <tr>\n",
       "      <th>6</th>\n",
       "      <td>10</td>\n",
       "      <td>4</td>\n",
       "      <td>0.04</td>\n",
       "    </tr>\n",
       "    <tr>\n",
       "      <th>9</th>\n",
       "      <td>11</td>\n",
       "      <td>2</td>\n",
       "      <td>0.02</td>\n",
       "    </tr>\n",
       "  </tbody>\n",
       "</table>\n",
       "</div>"
      ],
      "text/plain": [
       "   Alunos Altos  count  freq\n",
       "8             2      3  0.03\n",
       "7             3      4  0.04\n",
       "5             4      8  0.08\n",
       "3             5     11  0.11\n",
       "0             6     29  0.29\n",
       "2             7     15  0.15\n",
       "1             8     15  0.15\n",
       "4             9      9  0.09\n",
       "6            10      4  0.04\n",
       "9            11      2  0.02"
      ]
     },
     "execution_count": 165,
     "metadata": {},
     "output_type": "execute_result"
    },
    {
     "data": {
      "image/png": "[encoded data removed]",
      "text/plain": [
       "<Figure size 640x480 with 1 Axes>"
      ]
     },
     "metadata": {},
     "output_type": "display_data"
    }
   ],
   "source": [
    "# c) crie 100 amostras de X e faça uma tabela de frequencia no final\n",
    "\n",
    "altura = pd.Series()\n",
    "\n",
    "p = .5\n",
    "for i in range (100):\n",
    "    summ = 0\n",
    "    for j in range(13):\n",
    "        num = 0 if random.random() < p else 1\n",
    "        summ += num\n",
    "    altura.loc[i] = summ\n",
    "    \n",
    "df_altura = altura.to_frame().rename(columns={0: \"Alunos Altos\"})\n",
    "df_altura = df_altura['Alunos Altos'].value_counts().reset_index()\n",
    "df_altura['freq'] = df_altura['count'] / df_altura['count'].sum()\n",
    "df_altura = df_altura.sort_values(\"Alunos Altos\")\n",
    "\n",
    "plt.step(df_altura['Alunos Altos'], df_altura['freq'], where='mid')\n",
    "df_altura"
   ]
  },
  {
   "cell_type": "code",
   "execution_count": 224,
   "id": "76568e33-db64-4968-b53c-0d36f800e07e",
   "metadata": {},
   "outputs": [
    {
     "data": {
      "image/png": "[encoded data removed]",
      "text/plain": [
       "<Figure size 640x480 with 1 Axes>"
      ]
     },
     "metadata": {},
     "output_type": "display_data"
    }
   ],
   "source": [
    "# c opcional (pq eu quero)\n",
    "# mostra a probabilidade de 1 até 13 casos ocorrerem de um aluno ser alto e faça o plot.\n",
    "\n",
    "prob_de_ocorr_alt = pd.Series()\n",
    "for i in range(14):\n",
    "    res = round(binom.pmf(i, 13, .5), 4)\n",
    "    prob_de_ocorr_alt.loc[i] = res\n",
    "prob_de_ocorr_alt\n",
    "\n",
    "x = (prob_de_ocorr_alt.index).to_numpy()\n",
    "y = prob_de_ocorr_alt.to_numpy()\n",
    "\n",
    "x_step = np.repeat(x, 2)[1:-1]\n",
    "y_step = np.repeat(y, 2)[:-2]\n",
    "\n",
    "for i in range(0, len(x_step)-1, 2):\n",
    "    plt.plot(x_step[i:i+2], [y_step[i], y_step[i]], color='blue', linestyle='-', linewidth=2, zorder=3)\n",
    "    plt.plot([x_step[i+1], x_step[i+1]], [y_step[i], y_step[i+1]], color='red', linestyle='--', linewidth=2, zorder=3)\n",
    "\n",
    "plt.scatter(x, y, color='blue', s=10, zorder=3)  # pontos só pra referência\n",
    "\n",
    "plt.xticks(np.arange(min(x), max(x)+1, 1))\n",
    "\n",
    "plt.grid(axis=\"x\", zorder=0, linestyle=\"--\", color=\"lightgray\")\n",
    "plt.show()"
   ]
  },
  {
   "cell_type": "code",
   "execution_count": 14,
   "id": "4a66cefb-8de6-46b3-9578-965763ece7a3",
   "metadata": {},
   "outputs": [
    {
     "name": "stdout",
     "output_type": "stream",
     "text": [
      "0.209 0.867 1.0\n"
     ]
    }
   ],
   "source": [
    "# e1) probabilidade de P(X=7), P(X < 9), P(0 <= X <= 13)\n",
    "print(round(binom(13,0.5).pmf(7), 3), round(binom(13, 0.5).cdf(8), 3), round(binom(13, 0.5).cdf(13), 3))"
   ]
  },
  {
   "cell_type": "code",
   "execution_count": 34,
   "id": "9ec1ed73-4dff-436e-b7c3-90d19247e5c5",
   "metadata": {},
   "outputs": [
    {
     "name": "stdout",
     "output_type": "stream",
     "text": [
      "0.953857421875\n",
      "0.288818359375\n"
     ]
    }
   ],
   "source": [
    "# e2) probabilidade de pelo menos 4 alunos serem baixos\n",
    "print(binom(13,.5).cdf(9))\n",
    "print((binom(13,.5).cdf(11)) - (binom(13,.5).cdf(7))) # subtraindo probabilidades de x <= 11 por probabilidades de x <= 7"
   ]
  },
  {
   "cell_type": "markdown",
   "id": "467bebb2-830d-4f35-a944-0282ee9f3acc",
   "metadata": {},
   "source": [
    "# Exercício 30 (no computador)"
   ]
  },
  {
   "cell_type": "code",
   "execution_count": 110,
   "id": "14cac002-10c0-4337-9c6d-5d4f8342f7d4",
   "metadata": {},
   "outputs": [
    {
     "data": {
      "text/html": [
       "<div>\n",
       "<style scoped>\n",
       "    .dataframe tbody tr th:only-of-type {\n",
       "        vertical-align: middle;\n",
       "    }\n",
       "\n",
       "    .dataframe tbody tr th {\n",
       "        vertical-align: top;\n",
       "    }\n",
       "\n",
       "    .dataframe thead th {\n",
       "        text-align: right;\n",
       "    }\n",
       "</style>\n",
       "<table border=\"1\" class=\"dataframe\">\n",
       "  <thead>\n",
       "    <tr style=\"text-align: right;\">\n",
       "      <th></th>\n",
       "      <th>Temposp</th>\n",
       "      <th>count</th>\n",
       "      <th>freq</th>\n",
       "    </tr>\n",
       "  </thead>\n",
       "  <tbody>\n",
       "    <tr>\n",
       "      <th>2</th>\n",
       "      <td>[0, 10)</td>\n",
       "      <td>89</td>\n",
       "      <td>0.231</td>\n",
       "    </tr>\n",
       "    <tr>\n",
       "      <th>0</th>\n",
       "      <td>[10, 20)</td>\n",
       "      <td>115</td>\n",
       "      <td>0.299</td>\n",
       "    </tr>\n",
       "    <tr>\n",
       "      <th>1</th>\n",
       "      <td>[20, 30)</td>\n",
       "      <td>115</td>\n",
       "      <td>0.299</td>\n",
       "    </tr>\n",
       "    <tr>\n",
       "      <th>3</th>\n",
       "      <td>[30, 40)</td>\n",
       "      <td>40</td>\n",
       "      <td>0.104</td>\n",
       "    </tr>\n",
       "    <tr>\n",
       "      <th>4</th>\n",
       "      <td>[40, 50)</td>\n",
       "      <td>22</td>\n",
       "      <td>0.057</td>\n",
       "    </tr>\n",
       "    <tr>\n",
       "      <th>5</th>\n",
       "      <td>[50, 60)</td>\n",
       "      <td>3</td>\n",
       "      <td>0.008</td>\n",
       "    </tr>\n",
       "    <tr>\n",
       "      <th>6</th>\n",
       "      <td>[60, 70)</td>\n",
       "      <td>1</td>\n",
       "      <td>0.003</td>\n",
       "    </tr>\n",
       "  </tbody>\n",
       "</table>\n",
       "</div>"
      ],
      "text/plain": [
       "    Temposp  count   freq\n",
       "2   [0, 10)     89  0.231\n",
       "0  [10, 20)    115  0.299\n",
       "1  [20, 30)    115  0.299\n",
       "3  [30, 40)     40  0.104\n",
       "4  [40, 50)     22  0.057\n",
       "5  [50, 60)      3  0.008\n",
       "6  [60, 70)      1  0.003"
      ]
     },
     "execution_count": 110,
     "metadata": {},
     "output_type": "execute_result"
    },
    {
     "data": {
      "image/png": "[encoded data removed]",
      "text/plain": [
       "<Figure size 640x480 with 1 Axes>"
      ]
     },
     "metadata": {},
     "output_type": "display_data"
    }
   ],
   "source": [
    "# a)\n",
    "# para a variável temposp, construa uma tabela de frequencia com intervalos de 10 partindo do 0, obtenha o histograma e discuta o melhor modelo de probabilidade\n",
    "df_e30 = pd.read_csv(\"https://www.ime.usp.br/~noproest/dados/aeusp.txt\", sep=r\"\\s+\", encoding='latin1')\n",
    "bins = range(0, df_e30['Temposp'].max() + 10, 10)\n",
    "s_cut = pd.cut(df_e30['Temposp'], bins, right=False).value_counts().reset_index().sort_values(\"Temposp\")\n",
    "s_cut['freq'] =  round(s_cut['count']/s_cut['count'].sum(), 3)\n",
    "\n",
    "plt.scatter(np.arange(10,df_e30['Temposp'].max() + 10, 10), s_cut['freq'],zorder=3)\n",
    "plt.step(np.arange(10,df_e30['Temposp'].max() + 10, 10), s_cut['freq'], color=\"lightgray\",zorder=0)\n",
    "plt.plot([0, 10], [s_cut.iloc[0,2], s_cut.iloc[0,2]], color=\"lightgray\")\n",
    "plt.xticks(np.arange(0,df_e30['Temposp'].max() + 10, 10))\n",
    "s_cut"
   ]
  },
  {
   "cell_type": "code",
   "execution_count": 141,
   "id": "08d2c130-c7fb-4ae9-a6f0-bf7157c056dd",
   "metadata": {},
   "outputs": [
    {
     "data": {
      "text/html": [
       "<div>\n",
       "<style scoped>\n",
       "    .dataframe tbody tr th:only-of-type {\n",
       "        vertical-align: middle;\n",
       "    }\n",
       "\n",
       "    .dataframe tbody tr th {\n",
       "        vertical-align: top;\n",
       "    }\n",
       "\n",
       "    .dataframe thead th {\n",
       "        text-align: right;\n",
       "    }\n",
       "</style>\n",
       "<table border=\"1\" class=\"dataframe\">\n",
       "  <thead>\n",
       "    <tr style=\"text-align: right;\">\n",
       "      <th></th>\n",
       "      <th>Resid</th>\n",
       "      <th>count</th>\n",
       "      <th>freq</th>\n",
       "    </tr>\n",
       "  </thead>\n",
       "  <tbody>\n",
       "    <tr>\n",
       "      <th>6</th>\n",
       "      <td>1</td>\n",
       "      <td>25</td>\n",
       "      <td>0.065</td>\n",
       "    </tr>\n",
       "    <tr>\n",
       "      <th>4</th>\n",
       "      <td>2</td>\n",
       "      <td>30</td>\n",
       "      <td>0.078</td>\n",
       "    </tr>\n",
       "    <tr>\n",
       "      <th>1</th>\n",
       "      <td>3</td>\n",
       "      <td>78</td>\n",
       "      <td>0.203</td>\n",
       "    </tr>\n",
       "    <tr>\n",
       "      <th>0</th>\n",
       "      <td>4</td>\n",
       "      <td>90</td>\n",
       "      <td>0.234</td>\n",
       "    </tr>\n",
       "    <tr>\n",
       "      <th>2</th>\n",
       "      <td>5</td>\n",
       "      <td>57</td>\n",
       "      <td>0.148</td>\n",
       "    </tr>\n",
       "    <tr>\n",
       "      <th>3</th>\n",
       "      <td>6</td>\n",
       "      <td>40</td>\n",
       "      <td>0.104</td>\n",
       "    </tr>\n",
       "    <tr>\n",
       "      <th>5</th>\n",
       "      <td>7</td>\n",
       "      <td>30</td>\n",
       "      <td>0.078</td>\n",
       "    </tr>\n",
       "    <tr>\n",
       "      <th>7</th>\n",
       "      <td>8</td>\n",
       "      <td>17</td>\n",
       "      <td>0.044</td>\n",
       "    </tr>\n",
       "    <tr>\n",
       "      <th>8</th>\n",
       "      <td>9</td>\n",
       "      <td>11</td>\n",
       "      <td>0.029</td>\n",
       "    </tr>\n",
       "    <tr>\n",
       "      <th>9</th>\n",
       "      <td>10</td>\n",
       "      <td>7</td>\n",
       "      <td>0.018</td>\n",
       "    </tr>\n",
       "  </tbody>\n",
       "</table>\n",
       "</div>"
      ],
      "text/plain": [
       "   Resid  count   freq\n",
       "6      1     25  0.065\n",
       "4      2     30  0.078\n",
       "1      3     78  0.203\n",
       "0      4     90  0.234\n",
       "2      5     57  0.148\n",
       "3      6     40  0.104\n",
       "5      7     30  0.078\n",
       "7      8     17  0.044\n",
       "8      9     11  0.029\n",
       "9     10      7  0.018"
      ]
     },
     "execution_count": 141,
     "metadata": {},
     "output_type": "execute_result"
    },
    {
     "data": {
      "image/png": "[encoded data removed]",
      "text/plain": [
       "<Figure size 640x480 with 1 Axes>"
      ]
     },
     "metadata": {},
     "output_type": "display_data"
    }
   ],
   "source": [
    "# b)\n",
    "# faça um histograma da variável Resid e verifique se o modelo binomial com parametros n = 10 e p = 0.5 seria razoavel para verificar o comportamento da variável.\n",
    "resid = df_e30['Resid'].value_counts().reset_index().sort_values(\"Resid\")\n",
    "resid['freq'] = round(resid['count']/resid['count'].sum(), 3)\n",
    "\n",
    "plt.hist(df_e30['Resid'], bins=np.arange(1, 12, 1), zorder=3)\n",
    "plt.xticks(np.arange(1, 11, 1))\n",
    "plt.yticks(np.arange(0, 91, 10))\n",
    "plt.grid(axis=\"y\", zorder=0)\n",
    "resid\n"
   ]
  }
 ],
 "metadata": {
  "kernelspec": {
   "display_name": "Python 3 (ipykernel)",
   "language": "python",
   "name": "python3"
  },
  "language_info": {
   "codemirror_mode": {
    "name": "ipython",
    "version": 3
   },
   "file_extension": ".py",
   "mimetype": "text/x-python",
   "name": "python",
   "nbconvert_exporter": "python",
   "pygments_lexer": "ipython3",
   "version": "3.13.1"
  }
 },
 "nbformat": 4,
 "nbformat_minor": 5
}
