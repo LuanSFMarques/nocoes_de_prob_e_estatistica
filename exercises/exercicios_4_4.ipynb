{
 "cells": [
  {
   "cell_type": "code",
   "execution_count": 9,
   "id": "fc2502b2-84f5-4961-8177-cb3c3f4e2148",
   "metadata": {},
   "outputs": [],
   "source": [
    "import pandas as pd\n",
    "import numpy as np\n",
    "import matplotlib.pyplot as plt\n",
    "import scipy.stats as st\n",
    "import math"
   ]
  },
  {
   "cell_type": "markdown",
   "id": "20584964-eafa-4fb8-b2da-00ae97a32e34",
   "metadata": {},
   "source": [
    "# Exercício 1"
   ]
  },
  {
   "cell_type": "code",
   "execution_count": 7,
   "id": "5b9f58c2-0436-48ce-8ac5-31507404bc80",
   "metadata": {},
   "outputs": [
    {
     "name": "stdout",
     "output_type": "stream",
     "text": [
      "Média: 6.33\n",
      "Variância: 2.39\n"
     ]
    }
   ],
   "source": [
    "# Calcule média e variância dos acidentes no últimos 12 meses\n",
    "ser = pd.Series([5,4,7,8,5,6,4,7,9,7,6,8])\n",
    "print(f\"Média: {round(ser.mean(), 2)}\")\n",
    "\n",
    "ser_var = (ser**2).mean() - (ser.mean()**2)\n",
    "print(f\"Variância: {round(ser_var, 2)}\")"
   ]
  },
  {
   "cell_type": "markdown",
   "id": "2a20a50a-72a0-4e32-b2fa-93f065fa7964",
   "metadata": {},
   "source": [
    "# Exercício 2"
   ]
  },
  {
   "cell_type": "code",
   "execution_count": 7,
   "id": "0c8bfd38-5886-4692-8c19-4e880b9128f1",
   "metadata": {},
   "outputs": [],
   "source": [
    "ser = pd.Series([6,8,9,7,8,6,6,7,8,9,10,7,8,10,9,9,9,7,6,5,7,7,8,10,11])"
   ]
  },
  {
   "cell_type": "code",
   "execution_count": 12,
   "id": "400bd18f-2979-4759-8854-27b52aeaa63d",
   "metadata": {},
   "outputs": [
    {
     "name": "stdout",
     "output_type": "stream",
     "text": [
      "Média: 7.88\n",
      "Variância: 2.266\n",
      "Coeficiente de Variação: 0.191\n"
     ]
    }
   ],
   "source": [
    "# calcular média, variância e coeficiente de variação\n",
    "ser_media = ser.mean()\n",
    "print(f\"Média: {ser_media}\")\n",
    "\n",
    "ser_var = (ser**2).mean() - ser_media**2\n",
    "print(f\"Variância: {round(ser_var, 3)}\")\n",
    "\n",
    "ser_co = math.sqrt(ser_var)/ser_media\n",
    "print(f\"Coeficiente de Variação: {round(ser_co, 3)}\")"
   ]
  },
  {
   "cell_type": "markdown",
   "id": "4bc03356-c987-4776-9f4e-43d1a28b3efd",
   "metadata": {},
   "source": [
    "# Exercício 3"
   ]
  },
  {
   "cell_type": "code",
   "execution_count": 56,
   "id": "637cc8c7-5295-4ee9-bc9b-42cec5fc49b8",
   "metadata": {},
   "outputs": [
    {
     "name": "stdout",
     "output_type": "stream",
     "text": [
      "   NumFunc  count  Freq\n",
      "1        0      6  0.30\n",
      "2        1      5  0.25\n",
      "0        2      7  0.35\n",
      "3        3      2  0.10 \n",
      "\n",
      "Média: 1.25\n",
      "Mediana: 1\n",
      "Moda: 2\n"
     ]
    }
   ],
   "source": [
    "# a) Tabela de frequencia de NumFunc, media moda e mediana\n",
    "emp = pd.DataFrame({\"Empresa\":[1,2,3,4,5,6,7,8,9,10,11,12,13,14,15,16,17,18,19,20], \"NumFunc\":[1,0,0,3,0,1,1,2,2,2,0,2,0,2,0,1,1,2,3,2]})\n",
    "emp = emp['NumFunc'].value_counts().reset_index().sort_values('NumFunc')\n",
    "emp['Freq'] = (emp['count']/emp['count'].sum())\n",
    "print(emp, \"\\n\")\n",
    "\n",
    "emp_media = (emp['NumFunc']*emp['Freq']).sum()\n",
    "print(f\"Média: {emp_media}\")\n",
    "\n",
    "print(f\"Mediana: {1}\")\n",
    "\n",
    "emp_moda = emp[emp['count'] == emp['count'].max()]['NumFunc'][0]\n",
    "print(f\"Moda: {emp_moda}\")"
   ]
  },
  {
   "cell_type": "code",
   "execution_count": 70,
   "id": "60a20107-a5e1-4414-a2a3-5e40cb8eb87a",
   "metadata": {},
   "outputs": [
    {
     "name": "stdout",
     "output_type": "stream",
     "text": [
      "Variância: 0.987\n",
      "Desvio Padrão: 0.994\n"
     ]
    }
   ],
   "source": [
    "# b) Determine o desvio padrão\n",
    "emp_var = ((emp['NumFunc']**2)*emp['Freq']).sum() - emp_media**2\n",
    "emp_desv = math.sqrt(emp_var)\n",
    "print(f\"Variância: {round(emp_var, 3)}\")\n",
    "print(f\"Desvio Padrão: {round(emp_desv, 3)}\")"
   ]
  },
  {
   "cell_type": "code",
   "execution_count": 96,
   "id": "c404d2a7-ddaf-4106-bab7-d4bd941d7ca7",
   "metadata": {},
   "outputs": [
    {
     "name": "stdout",
     "output_type": "stream",
     "text": [
      "Média de despesa adicional em todas empresas com funcionarios em curso superior: 3.57\n"
     ]
    }
   ],
   "source": [
    "# c) custo de 2 salários minimos para cada funcionario que possui curso superior\n",
    "emp['Despesa'] = emp['NumFunc']*2\n",
    "\n",
    "emp_media2 = ((emp[emp['Despesa'] != 0]['count'])*(emp[emp['Despesa'] != 0]['Despesa'])).sum()/emp[emp['Despesa'] != 0]['count'].sum()\n",
    "\n",
    "print(f\"Média de despesa adicional em todas empresas com funcionarios em curso superior: {round(emp_media2, 2)}\")"
   ]
  },
  {
   "cell_type": "markdown",
   "id": "7b706b1b-3958-4e36-a5b1-db2ea829cc2e",
   "metadata": {},
   "source": [
    "# Exercício 5"
   ]
  },
  {
   "cell_type": "code",
   "execution_count": 133,
   "id": "d245aed3-b2bc-4830-89c0-19ce43ed2d06",
   "metadata": {},
   "outputs": [
    {
     "data": {
      "text/html": [
       "<div>\n",
       "<style scoped>\n",
       "    .dataframe tbody tr th:only-of-type {\n",
       "        vertical-align: middle;\n",
       "    }\n",
       "\n",
       "    .dataframe tbody tr th {\n",
       "        vertical-align: top;\n",
       "    }\n",
       "\n",
       "    .dataframe thead th {\n",
       "        text-align: right;\n",
       "    }\n",
       "</style>\n",
       "<table border=\"1\" class=\"dataframe\">\n",
       "  <thead>\n",
       "    <tr style=\"text-align: right;\">\n",
       "      <th></th>\n",
       "      <th>index</th>\n",
       "      <th>count</th>\n",
       "      <th>freq</th>\n",
       "    </tr>\n",
       "  </thead>\n",
       "  <tbody>\n",
       "    <tr>\n",
       "      <th>0</th>\n",
       "      <td>1</td>\n",
       "      <td>3</td>\n",
       "      <td>0.06</td>\n",
       "    </tr>\n",
       "    <tr>\n",
       "      <th>1</th>\n",
       "      <td>2</td>\n",
       "      <td>11</td>\n",
       "      <td>0.22</td>\n",
       "    </tr>\n",
       "    <tr>\n",
       "      <th>2</th>\n",
       "      <td>3</td>\n",
       "      <td>16</td>\n",
       "      <td>0.32</td>\n",
       "    </tr>\n",
       "    <tr>\n",
       "      <th>3</th>\n",
       "      <td>4</td>\n",
       "      <td>9</td>\n",
       "      <td>0.18</td>\n",
       "    </tr>\n",
       "    <tr>\n",
       "      <th>4</th>\n",
       "      <td>5</td>\n",
       "      <td>6</td>\n",
       "      <td>0.12</td>\n",
       "    </tr>\n",
       "    <tr>\n",
       "      <th>5</th>\n",
       "      <td>6</td>\n",
       "      <td>1</td>\n",
       "      <td>0.02</td>\n",
       "    </tr>\n",
       "    <tr>\n",
       "      <th>6</th>\n",
       "      <td>7</td>\n",
       "      <td>2</td>\n",
       "      <td>0.04</td>\n",
       "    </tr>\n",
       "    <tr>\n",
       "      <th>7</th>\n",
       "      <td>8</td>\n",
       "      <td>1</td>\n",
       "      <td>0.02</td>\n",
       "    </tr>\n",
       "    <tr>\n",
       "      <th>8</th>\n",
       "      <td>15</td>\n",
       "      <td>1</td>\n",
       "      <td>0.02</td>\n",
       "    </tr>\n",
       "  </tbody>\n",
       "</table>\n",
       "</div>"
      ],
      "text/plain": [
       "   index  count  freq\n",
       "0      1      3  0.06\n",
       "1      2     11  0.22\n",
       "2      3     16  0.32\n",
       "3      4      9  0.18\n",
       "4      5      6  0.12\n",
       "5      6      1  0.02\n",
       "6      7      2  0.04\n",
       "7      8      1  0.02\n",
       "8     15      1  0.02"
      ]
     },
     "execution_count": 133,
     "metadata": {},
     "output_type": "execute_result"
    }
   ],
   "source": [
    "# a) tabela de frequencia\n",
    "bebes = pd.Series([1,1,1,2,2,2,2,2,2,2,2,2,2,2,3,3,3,3,3,3,3,3,3,3,3,3,3,3,3,3,4,4,4,4,4,4,4,4,4,5,5,5,5,5,5,6,7,7,8,15])\n",
    "bebes = bebes.value_counts().reset_index().sort_values('index')\n",
    "bebes['freq'] = bebes['count']/bebes['count'].sum()\n",
    "bebes = bebes.reset_index(drop=True)\n",
    "bebes"
   ]
  },
  {
   "cell_type": "code",
   "execution_count": 161,
   "id": "f64d9e13-efb0-4d09-9ce6-530bf51ecab8",
   "metadata": {},
   "outputs": [
    {
     "name": "stdout",
     "output_type": "stream",
     "text": [
      "Média: 3.6399999999999997\n",
      "Mediana: 3.0\n",
      "Moda: 3.0\n"
     ]
    }
   ],
   "source": [
    "# b) calcule média, moda e mediana\n",
    "\n",
    "#media\n",
    "bebes_media = (bebes['index']*bebes['freq']).sum()\n",
    "print(f\"Média: {bebes_media}\")\n",
    "\n",
    "#mediana\n",
    "bebes_cumsum = bebes['freq'].cumsum()\n",
    "i = 0\n",
    "while(bebes_cumsum.iloc[i] < .5):\n",
    "    i+=1\n",
    "bebes_mediana = bebes.iloc[i]['index']\n",
    "print(f\"Mediana: {bebes_mediana}\")\n",
    "\n",
    "#moda\n",
    "bebes_moda = bebes.iloc[bebes['count'].idxmax()]['index']\n",
    "print(f\"Moda: {bebes_moda}\")"
   ]
  },
  {
   "cell_type": "code",
   "execution_count": 163,
   "id": "cc41a89d-c88b-40dd-98b1-bc6bc098b3d2",
   "metadata": {},
   "outputs": [
    {
     "name": "stdout",
     "output_type": "stream",
     "text": [
      "Desvio Padrão: 2.215942237514327\n"
     ]
    }
   ],
   "source": [
    "# c) Determine o Desvio Padrão\n",
    "\n",
    "bebes_std = math.sqrt(((bebes['index']**2)*bebes['freq']).sum() - bebes_media**2)\n",
    "print(f\"Desvio Padrão: {bebes_std}\")"
   ]
  },
  {
   "cell_type": "code",
   "execution_count": 164,
   "id": "396fbcb8-4332-463a-8116-ca9e2abd4545",
   "metadata": {},
   "outputs": [],
   "source": [
    "# d) mediana não é ideal. Poderia ser utilizado um arredondamento superior da média ou a moda (pois ela simplesmente indica o numero que mais costuma ocorrer)."
   ]
  },
  {
   "cell_type": "code",
   "execution_count": 195,
   "id": "e1311587-a88e-44b8-abd4-bada2deee9a2",
   "metadata": {},
   "outputs": [
    {
     "name": "stdout",
     "output_type": "stream",
     "text": [
      "3.34\n",
      "3.0\n",
      "3.0\n",
      "1.5825296205758679\n"
     ]
    }
   ],
   "source": [
    "# e) \n",
    "bebes2 = bebes[bebes['index'] <= 8]\n",
    "\n",
    "#média\n",
    "bebes2_media = (bebes2['index']*bebes2['freq']).sum()\n",
    "print(bebes2_media)\n",
    "\n",
    "#mediana\n",
    "bebes2_cumsum = bebes2['freq'].cumsum()\n",
    "i = 0\n",
    "while(bebes2_cumsum.iloc[i] < .5):\n",
    "    i+=1\n",
    "bebes2_mediana = bebes2.iloc[i]['index']\n",
    "print(bebes2_mediana)\n",
    "\n",
    "#moda\n",
    "bebes2_moda = bebes2.iloc[bebes2['count'].idxmax()]['index']\n",
    "print(bebes2_moda)\n",
    "\n",
    "#desvio\n",
    "bebes2_std = math.sqrt(((bebes2['index']**2)*bebes2['freq']).sum() - bebes2_media**2)\n",
    "print(bebes2_std)"
   ]
  },
  {
   "cell_type": "markdown",
   "id": "e9fdada9-97fe-4bf9-99dc-5a4526483e8b",
   "metadata": {},
   "source": [
    "# Exercício 9\n"
   ]
  },
  {
   "cell_type": "code",
   "execution_count": 225,
   "id": "15424f3f-399b-4b2e-abe9-1569d57ef026",
   "metadata": {},
   "outputs": [
    {
     "name": "stdout",
     "output_type": "stream",
     "text": [
      "       range  count  freq  range_mean\n",
      "0   [60, 65)      2  0.10        62.5\n",
      "1   [65, 70)      5  0.25        67.5\n",
      "2   [70, 75)      1  0.05        72.5\n",
      "3   [75, 80)      6  0.30        77.5\n",
      "4   [80, 85)      3  0.15        82.5\n",
      "5   [85, 90)      2  0.10        87.5\n",
      "6   [90, 95)      0  0.00        92.5\n",
      "7  [95, 100)      1  0.05        97.5\n",
      "\n",
      "Média: 76.0\n",
      "Variância: 80.25\n",
      "Desvio Padrão 8.958236433584458\n"
     ]
    }
   ],
   "source": [
    "# a) tabela de frequencia, média, variancia e desvio padrão\n",
    "lances = pd.Series([68, 73, 61, 66, 96, 79, 65, 86, 84, 79, 65, 78, 78, 62, 80, 67, 75, 88, 75, 82])\n",
    "\n",
    "bins = np.arange(60, 101, 5)\n",
    "categorias = pd.cut(lances, bins=bins, right=False)\n",
    "\n",
    "lances = categorias.value_counts().sort_index().reset_index()\n",
    "lances['freq'] = round(lances['count']/lances['count'].sum(), 2)\n",
    "lances['range_mean'] = lances['index'].apply(lambda x: (x.left + x.right)/2)\n",
    "lances['range_mean'] = pd.to_numeric(lances['range_mean'], errors='coerce')\n",
    "lances = lances.rename(columns={\"index\":\"range\"})\n",
    "print(lances)\n",
    "\n",
    "#média\n",
    "lances_media = (lances['range_mean']*lances['freq']).sum()\n",
    "print(f\"\\nMédia: {lances_media}\")\n",
    "\n",
    "#variancia\n",
    "lances_var = ((lances['range_mean']**2)*lances['freq']).sum() - lances_media**2\n",
    "print(f\"Variância: {lances_var}\")\n",
    "\n",
    "#desvio padrão\n",
    "lances_std = math.sqrt(lances_var)\n",
    "print(f\"Desvio Padrão {lances_std}\")"
   ]
  },
  {
   "cell_type": "markdown",
   "id": "6d037488-dbb0-4afb-8468-5defca871233",
   "metadata": {},
   "source": [
    "# Exercício 11"
   ]
  },
  {
   "cell_type": "code",
   "execution_count": 238,
   "id": "4ae1b009-1168-47ee-b56c-a2fde41d57de",
   "metadata": {},
   "outputs": [
    {
     "data": {
      "text/html": [
       "<div>\n",
       "<style scoped>\n",
       "    .dataframe tbody tr th:only-of-type {\n",
       "        vertical-align: middle;\n",
       "    }\n",
       "\n",
       "    .dataframe tbody tr th {\n",
       "        vertical-align: top;\n",
       "    }\n",
       "\n",
       "    .dataframe thead th {\n",
       "        text-align: right;\n",
       "    }\n",
       "</style>\n",
       "<table border=\"1\" class=\"dataframe\">\n",
       "  <thead>\n",
       "    <tr style=\"text-align: right;\">\n",
       "      <th></th>\n",
       "      <th>aprovacoes</th>\n",
       "      <th>frequencia</th>\n",
       "      <th>freq</th>\n",
       "    </tr>\n",
       "  </thead>\n",
       "  <tbody>\n",
       "    <tr>\n",
       "      <th>0</th>\n",
       "      <td>4</td>\n",
       "      <td>126</td>\n",
       "      <td>0.018</td>\n",
       "    </tr>\n",
       "    <tr>\n",
       "      <th>1</th>\n",
       "      <td>5</td>\n",
       "      <td>359</td>\n",
       "      <td>0.052</td>\n",
       "    </tr>\n",
       "    <tr>\n",
       "      <th>2</th>\n",
       "      <td>6</td>\n",
       "      <td>1685</td>\n",
       "      <td>0.243</td>\n",
       "    </tr>\n",
       "    <tr>\n",
       "      <th>3</th>\n",
       "      <td>7</td>\n",
       "      <td>4764</td>\n",
       "      <td>0.687</td>\n",
       "    </tr>\n",
       "  </tbody>\n",
       "</table>\n",
       "</div>"
      ],
      "text/plain": [
       "   aprovacoes  frequencia   freq\n",
       "0           4         126  0.018\n",
       "1           5         359  0.052\n",
       "2           6        1685  0.243\n",
       "3           7        4764  0.687"
      ]
     },
     "execution_count": 238,
     "metadata": {},
     "output_type": "execute_result"
    }
   ],
   "source": [
    "veiculos = pd.DataFrame({\"aprovacoes\":[4,5,6,7], \"frequencia\":[126, 359, 1685, 4764]})\n",
    "veiculos['freq'] = round(veiculos['frequencia']/veiculos['frequencia'].sum(), 3)\n",
    "veiculos"
   ]
  },
  {
   "cell_type": "code",
   "execution_count": 272,
   "id": "929e9824-75a3-43b6-88ef-a08cce23b763",
   "metadata": {},
   "outputs": [
    {
     "name": "stdout",
     "output_type": "stream",
     "text": [
      "Média: 6.599\n",
      "Mediana: 7\n",
      "Moda: 7\n"
     ]
    }
   ],
   "source": [
    "# a) moda média e mediana\n",
    "\n",
    "#media\n",
    "veiculos_media = (veiculos['aprovacoes']*veiculos['freq']).sum()\n",
    "print(f\"Média: {veiculos_media}\")\n",
    "\n",
    "#mediana\n",
    "veiculos['freq_cumsum'] = veiculos['freq'].cumsum()\n",
    "i = 0\n",
    "while(veiculos['freq_cumsum'].iloc[i] < .5):\n",
    "    i += 1\n",
    "veiculos_mediana = veiculos['aprovacoes'][i]\n",
    "print(f\"Mediana: {veiculos_mediana}\")\n",
    "\n",
    "#moda\n",
    "veiculos_moda = veiculos[veiculos['freq'] == veiculos['freq'].max()]['aprovacoes'].values[0]\n",
    "print(f\"Moda: {veiculos_moda}\")"
   ]
  },
  {
   "cell_type": "code",
   "execution_count": 275,
   "id": "aa07dac8-6911-46a4-a853-bfac13033849",
   "metadata": {},
   "outputs": [
    {
     "name": "stdout",
     "output_type": "stream",
     "text": [
      "Variância: 0.45219900000000024\n"
     ]
    }
   ],
   "source": [
    "# b) variância\n",
    "\n",
    "veiculos_var = ((veiculos['aprovacoes']**2)*veiculos['freq']).sum() - veiculos_media**2\n",
    "print(f\"Variância: {veiculos_var}\")"
   ]
  },
  {
   "cell_type": "code",
   "execution_count": 228,
   "id": "40d4bb82-a2b9-48f4-9eb5-ef5a7cd983b4",
   "metadata": {},
   "outputs": [],
   "source": [
    "# c) crie uma nova variável \"reprovações\" para verificações não \"ok\" no veículo. refaça moda media e mediana"
   ]
  },
  {
   "cell_type": "code",
   "execution_count": 229,
   "id": "34729d2d-7176-46ab-88c6-c35d98d0f4b7",
   "metadata": {},
   "outputs": [],
   "source": [
    "# d)"
   ]
  }
 ],
 "metadata": {
  "kernelspec": {
   "display_name": "Python 3 (ipykernel)",
   "language": "python",
   "name": "python3"
  },
  "language_info": {
   "codemirror_mode": {
    "name": "ipython",
    "version": 3
   },
   "file_extension": ".py",
   "mimetype": "text/x-python",
   "name": "python",
   "nbconvert_exporter": "python",
   "pygments_lexer": "ipython3",
   "version": "3.13.1"
  }
 },
 "nbformat": 4,
 "nbformat_minor": 5
}
