{
 "cells": [
  {
   "cell_type": "code",
   "execution_count": 1,
   "id": "fc2502b2-84f5-4961-8177-cb3c3f4e2148",
   "metadata": {},
   "outputs": [],
   "source": [
    "import pandas as pd\n",
    "import numpy as np\n",
    "import matplotlib.pyplot as plt\n",
    "import scipy.stats as st\n",
    "import math\n",
    "import random"
   ]
  },
  {
   "cell_type": "markdown",
   "id": "20584964-eafa-4fb8-b2da-00ae97a32e34",
   "metadata": {},
   "source": [
    "# Exercício 1"
   ]
  },
  {
   "cell_type": "code",
   "execution_count": 7,
   "id": "5b9f58c2-0436-48ce-8ac5-31507404bc80",
   "metadata": {},
   "outputs": [
    {
     "name": "stdout",
     "output_type": "stream",
     "text": [
      "Média: 6.33\n",
      "Variância: 2.39\n"
     ]
    }
   ],
   "source": [
    "# Calcule média e variância dos acidentes no últimos 12 meses\n",
    "ser = pd.Series([5,4,7,8,5,6,4,7,9,7,6,8])\n",
    "print(f\"Média: {round(ser.mean(), 2)}\")\n",
    "\n",
    "ser_var = (ser**2).mean() - (ser.mean()**2)\n",
    "print(f\"Variância: {round(ser_var, 2)}\")"
   ]
  },
  {
   "cell_type": "markdown",
   "id": "2a20a50a-72a0-4e32-b2fa-93f065fa7964",
   "metadata": {},
   "source": [
    "# Exercício 2"
   ]
  },
  {
   "cell_type": "code",
   "execution_count": 7,
   "id": "0c8bfd38-5886-4692-8c19-4e880b9128f1",
   "metadata": {},
   "outputs": [],
   "source": [
    "ser = pd.Series([6,8,9,7,8,6,6,7,8,9,10,7,8,10,9,9,9,7,6,5,7,7,8,10,11])"
   ]
  },
  {
   "cell_type": "code",
   "execution_count": 12,
   "id": "400bd18f-2979-4759-8854-27b52aeaa63d",
   "metadata": {},
   "outputs": [
    {
     "name": "stdout",
     "output_type": "stream",
     "text": [
      "Média: 7.88\n",
      "Variância: 2.266\n",
      "Coeficiente de Variação: 0.191\n"
     ]
    }
   ],
   "source": [
    "# calcular média, variância e coeficiente de variação\n",
    "ser_media = ser.mean()\n",
    "print(f\"Média: {ser_media}\")\n",
    "\n",
    "ser_var = (ser**2).mean() - ser_media**2\n",
    "print(f\"Variância: {round(ser_var, 3)}\")\n",
    "\n",
    "ser_co = math.sqrt(ser_var)/ser_media\n",
    "print(f\"Coeficiente de Variação: {round(ser_co, 3)}\")"
   ]
  },
  {
   "cell_type": "markdown",
   "id": "4bc03356-c987-4776-9f4e-43d1a28b3efd",
   "metadata": {},
   "source": [
    "# Exercício 3"
   ]
  },
  {
   "cell_type": "code",
   "execution_count": 56,
   "id": "637cc8c7-5295-4ee9-bc9b-42cec5fc49b8",
   "metadata": {},
   "outputs": [
    {
     "name": "stdout",
     "output_type": "stream",
     "text": [
      "   NumFunc  count  Freq\n",
      "1        0      6  0.30\n",
      "2        1      5  0.25\n",
      "0        2      7  0.35\n",
      "3        3      2  0.10 \n",
      "\n",
      "Média: 1.25\n",
      "Mediana: 1\n",
      "Moda: 2\n"
     ]
    }
   ],
   "source": [
    "# a) Tabela de frequencia de NumFunc, media moda e mediana\n",
    "emp = pd.DataFrame({\"Empresa\":[1,2,3,4,5,6,7,8,9,10,11,12,13,14,15,16,17,18,19,20], \"NumFunc\":[1,0,0,3,0,1,1,2,2,2,0,2,0,2,0,1,1,2,3,2]})\n",
    "emp = emp['NumFunc'].value_counts().reset_index().sort_values('NumFunc')\n",
    "emp['Freq'] = (emp['count']/emp['count'].sum())\n",
    "print(emp, \"\\n\")\n",
    "\n",
    "emp_media = (emp['NumFunc']*emp['Freq']).sum()\n",
    "print(f\"Média: {emp_media}\")\n",
    "\n",
    "print(f\"Mediana: {1}\")\n",
    "\n",
    "emp_moda = emp[emp['count'] == emp['count'].max()]['NumFunc'][0]\n",
    "print(f\"Moda: {emp_moda}\")"
   ]
  },
  {
   "cell_type": "code",
   "execution_count": 70,
   "id": "60a20107-a5e1-4414-a2a3-5e40cb8eb87a",
   "metadata": {},
   "outputs": [
    {
     "name": "stdout",
     "output_type": "stream",
     "text": [
      "Variância: 0.987\n",
      "Desvio Padrão: 0.994\n"
     ]
    }
   ],
   "source": [
    "# b) Determine o desvio padrão\n",
    "emp_var = ((emp['NumFunc']**2)*emp['Freq']).sum() - emp_media**2\n",
    "emp_desv = math.sqrt(emp_var)\n",
    "print(f\"Variância: {round(emp_var, 3)}\")\n",
    "print(f\"Desvio Padrão: {round(emp_desv, 3)}\")"
   ]
  },
  {
   "cell_type": "code",
   "execution_count": 96,
   "id": "c404d2a7-ddaf-4106-bab7-d4bd941d7ca7",
   "metadata": {},
   "outputs": [
    {
     "name": "stdout",
     "output_type": "stream",
     "text": [
      "Média de despesa adicional em todas empresas com funcionarios em curso superior: 3.57\n"
     ]
    }
   ],
   "source": [
    "# c) custo de 2 salários minimos para cada funcionario que possui curso superior\n",
    "emp['Despesa'] = emp['NumFunc']*2\n",
    "\n",
    "emp_media2 = ((emp[emp['Despesa'] != 0]['count'])*(emp[emp['Despesa'] != 0]['Despesa'])).sum()/emp[emp['Despesa'] != 0]['count'].sum()\n",
    "\n",
    "print(f\"Média de despesa adicional em todas empresas com funcionarios em curso superior: {round(emp_media2, 2)}\")"
   ]
  },
  {
   "cell_type": "markdown",
   "id": "7b706b1b-3958-4e36-a5b1-db2ea829cc2e",
   "metadata": {},
   "source": [
    "# Exercício 5"
   ]
  },
  {
   "cell_type": "code",
   "execution_count": 133,
   "id": "d245aed3-b2bc-4830-89c0-19ce43ed2d06",
   "metadata": {},
   "outputs": [
    {
     "data": {
      "text/html": [
       "<div>\n",
       "<style scoped>\n",
       "    .dataframe tbody tr th:only-of-type {\n",
       "        vertical-align: middle;\n",
       "    }\n",
       "\n",
       "    .dataframe tbody tr th {\n",
       "        vertical-align: top;\n",
       "    }\n",
       "\n",
       "    .dataframe thead th {\n",
       "        text-align: right;\n",
       "    }\n",
       "</style>\n",
       "<table border=\"1\" class=\"dataframe\">\n",
       "  <thead>\n",
       "    <tr style=\"text-align: right;\">\n",
       "      <th></th>\n",
       "      <th>index</th>\n",
       "      <th>count</th>\n",
       "      <th>freq</th>\n",
       "    </tr>\n",
       "  </thead>\n",
       "  <tbody>\n",
       "    <tr>\n",
       "      <th>0</th>\n",
       "      <td>1</td>\n",
       "      <td>3</td>\n",
       "      <td>0.06</td>\n",
       "    </tr>\n",
       "    <tr>\n",
       "      <th>1</th>\n",
       "      <td>2</td>\n",
       "      <td>11</td>\n",
       "      <td>0.22</td>\n",
       "    </tr>\n",
       "    <tr>\n",
       "      <th>2</th>\n",
       "      <td>3</td>\n",
       "      <td>16</td>\n",
       "      <td>0.32</td>\n",
       "    </tr>\n",
       "    <tr>\n",
       "      <th>3</th>\n",
       "      <td>4</td>\n",
       "      <td>9</td>\n",
       "      <td>0.18</td>\n",
       "    </tr>\n",
       "    <tr>\n",
       "      <th>4</th>\n",
       "      <td>5</td>\n",
       "      <td>6</td>\n",
       "      <td>0.12</td>\n",
       "    </tr>\n",
       "    <tr>\n",
       "      <th>5</th>\n",
       "      <td>6</td>\n",
       "      <td>1</td>\n",
       "      <td>0.02</td>\n",
       "    </tr>\n",
       "    <tr>\n",
       "      <th>6</th>\n",
       "      <td>7</td>\n",
       "      <td>2</td>\n",
       "      <td>0.04</td>\n",
       "    </tr>\n",
       "    <tr>\n",
       "      <th>7</th>\n",
       "      <td>8</td>\n",
       "      <td>1</td>\n",
       "      <td>0.02</td>\n",
       "    </tr>\n",
       "    <tr>\n",
       "      <th>8</th>\n",
       "      <td>15</td>\n",
       "      <td>1</td>\n",
       "      <td>0.02</td>\n",
       "    </tr>\n",
       "  </tbody>\n",
       "</table>\n",
       "</div>"
      ],
      "text/plain": [
       "   index  count  freq\n",
       "0      1      3  0.06\n",
       "1      2     11  0.22\n",
       "2      3     16  0.32\n",
       "3      4      9  0.18\n",
       "4      5      6  0.12\n",
       "5      6      1  0.02\n",
       "6      7      2  0.04\n",
       "7      8      1  0.02\n",
       "8     15      1  0.02"
      ]
     },
     "execution_count": 133,
     "metadata": {},
     "output_type": "execute_result"
    }
   ],
   "source": [
    "# a) tabela de frequencia\n",
    "bebes = pd.Series([1,1,1,2,2,2,2,2,2,2,2,2,2,2,3,3,3,3,3,3,3,3,3,3,3,3,3,3,3,3,4,4,4,4,4,4,4,4,4,5,5,5,5,5,5,6,7,7,8,15])\n",
    "bebes = bebes.value_counts().reset_index().sort_values('index')\n",
    "bebes['freq'] = bebes['count']/bebes['count'].sum()\n",
    "bebes = bebes.reset_index(drop=True)\n",
    "bebes"
   ]
  },
  {
   "cell_type": "code",
   "execution_count": 161,
   "id": "f64d9e13-efb0-4d09-9ce6-530bf51ecab8",
   "metadata": {},
   "outputs": [
    {
     "name": "stdout",
     "output_type": "stream",
     "text": [
      "Média: 3.6399999999999997\n",
      "Mediana: 3.0\n",
      "Moda: 3.0\n"
     ]
    }
   ],
   "source": [
    "# b) calcule média, moda e mediana\n",
    "\n",
    "#media\n",
    "bebes_media = (bebes['index']*bebes['freq']).sum()\n",
    "print(f\"Média: {bebes_media}\")\n",
    "\n",
    "#mediana\n",
    "bebes_cumsum = bebes['freq'].cumsum()\n",
    "i = 0\n",
    "while(bebes_cumsum.iloc[i] < .5):\n",
    "    i+=1\n",
    "bebes_mediana = bebes.iloc[i]['index']\n",
    "print(f\"Mediana: {bebes_mediana}\")\n",
    "\n",
    "#moda\n",
    "bebes_moda = bebes.iloc[bebes['count'].idxmax()]['index']\n",
    "print(f\"Moda: {bebes_moda}\")"
   ]
  },
  {
   "cell_type": "code",
   "execution_count": 163,
   "id": "cc41a89d-c88b-40dd-98b1-bc6bc098b3d2",
   "metadata": {},
   "outputs": [
    {
     "name": "stdout",
     "output_type": "stream",
     "text": [
      "Desvio Padrão: 2.215942237514327\n"
     ]
    }
   ],
   "source": [
    "# c) Determine o Desvio Padrão\n",
    "\n",
    "bebes_std = math.sqrt(((bebes['index']**2)*bebes['freq']).sum() - bebes_media**2)\n",
    "print(f\"Desvio Padrão: {bebes_std}\")"
   ]
  },
  {
   "cell_type": "code",
   "execution_count": 164,
   "id": "396fbcb8-4332-463a-8116-ca9e2abd4545",
   "metadata": {},
   "outputs": [],
   "source": [
    "# d) mediana não é ideal. Poderia ser utilizado um arredondamento superior da média ou a moda (pois ela simplesmente indica o numero que mais costuma ocorrer)."
   ]
  },
  {
   "cell_type": "code",
   "execution_count": 195,
   "id": "e1311587-a88e-44b8-abd4-bada2deee9a2",
   "metadata": {},
   "outputs": [
    {
     "name": "stdout",
     "output_type": "stream",
     "text": [
      "3.34\n",
      "3.0\n",
      "3.0\n",
      "1.5825296205758679\n"
     ]
    }
   ],
   "source": [
    "# e) \n",
    "bebes2 = bebes[bebes['index'] <= 8]\n",
    "\n",
    "#média\n",
    "bebes2_media = (bebes2['index']*bebes2['freq']).sum()\n",
    "print(bebes2_media)\n",
    "\n",
    "#mediana\n",
    "bebes2_cumsum = bebes2['freq'].cumsum()\n",
    "i = 0\n",
    "while(bebes2_cumsum.iloc[i] < .5):\n",
    "    i+=1\n",
    "bebes2_mediana = bebes2.iloc[i]['index']\n",
    "print(bebes2_mediana)\n",
    "\n",
    "#moda\n",
    "bebes2_moda = bebes2.iloc[bebes2['count'].idxmax()]['index']\n",
    "print(bebes2_moda)\n",
    "\n",
    "#desvio\n",
    "bebes2_std = math.sqrt(((bebes2['index']**2)*bebes2['freq']).sum() - bebes2_media**2)\n",
    "print(bebes2_std)"
   ]
  },
  {
   "cell_type": "markdown",
   "id": "e9fdada9-97fe-4bf9-99dc-5a4526483e8b",
   "metadata": {},
   "source": [
    "# Exercício 9\n"
   ]
  },
  {
   "cell_type": "code",
   "execution_count": 225,
   "id": "15424f3f-399b-4b2e-abe9-1569d57ef026",
   "metadata": {},
   "outputs": [
    {
     "name": "stdout",
     "output_type": "stream",
     "text": [
      "       range  count  freq  range_mean\n",
      "0   [60, 65)      2  0.10        62.5\n",
      "1   [65, 70)      5  0.25        67.5\n",
      "2   [70, 75)      1  0.05        72.5\n",
      "3   [75, 80)      6  0.30        77.5\n",
      "4   [80, 85)      3  0.15        82.5\n",
      "5   [85, 90)      2  0.10        87.5\n",
      "6   [90, 95)      0  0.00        92.5\n",
      "7  [95, 100)      1  0.05        97.5\n",
      "\n",
      "Média: 76.0\n",
      "Variância: 80.25\n",
      "Desvio Padrão 8.958236433584458\n"
     ]
    }
   ],
   "source": [
    "# a) tabela de frequencia, média, variancia e desvio padrão\n",
    "lances = pd.Series([68, 73, 61, 66, 96, 79, 65, 86, 84, 79, 65, 78, 78, 62, 80, 67, 75, 88, 75, 82])\n",
    "\n",
    "bins = np.arange(60, 101, 5)\n",
    "categorias = pd.cut(lances, bins=bins, right=False)\n",
    "\n",
    "lances = categorias.value_counts().sort_index().reset_index()\n",
    "lances['freq'] = round(lances['count']/lances['count'].sum(), 2)\n",
    "lances['range_mean'] = lances['index'].apply(lambda x: (x.left + x.right)/2)\n",
    "lances['range_mean'] = pd.to_numeric(lances['range_mean'], errors='coerce')\n",
    "lances = lances.rename(columns={\"index\":\"range\"})\n",
    "print(lances)\n",
    "\n",
    "#média\n",
    "lances_media = (lances['range_mean']*lances['freq']).sum()\n",
    "print(f\"\\nMédia: {lances_media}\")\n",
    "\n",
    "#variancia\n",
    "lances_var = ((lances['range_mean']**2)*lances['freq']).sum() - lances_media**2\n",
    "print(f\"Variância: {lances_var}\")\n",
    "\n",
    "#desvio padrão\n",
    "lances_std = math.sqrt(lances_var)\n",
    "print(f\"Desvio Padrão {lances_std}\")"
   ]
  },
  {
   "cell_type": "markdown",
   "id": "6d037488-dbb0-4afb-8468-5defca871233",
   "metadata": {},
   "source": [
    "# Exercício 11"
   ]
  },
  {
   "cell_type": "code",
   "execution_count": 238,
   "id": "4ae1b009-1168-47ee-b56c-a2fde41d57de",
   "metadata": {},
   "outputs": [
    {
     "data": {
      "text/html": [
       "<div>\n",
       "<style scoped>\n",
       "    .dataframe tbody tr th:only-of-type {\n",
       "        vertical-align: middle;\n",
       "    }\n",
       "\n",
       "    .dataframe tbody tr th {\n",
       "        vertical-align: top;\n",
       "    }\n",
       "\n",
       "    .dataframe thead th {\n",
       "        text-align: right;\n",
       "    }\n",
       "</style>\n",
       "<table border=\"1\" class=\"dataframe\">\n",
       "  <thead>\n",
       "    <tr style=\"text-align: right;\">\n",
       "      <th></th>\n",
       "      <th>aprovacoes</th>\n",
       "      <th>frequencia</th>\n",
       "      <th>freq</th>\n",
       "    </tr>\n",
       "  </thead>\n",
       "  <tbody>\n",
       "    <tr>\n",
       "      <th>0</th>\n",
       "      <td>4</td>\n",
       "      <td>126</td>\n",
       "      <td>0.018</td>\n",
       "    </tr>\n",
       "    <tr>\n",
       "      <th>1</th>\n",
       "      <td>5</td>\n",
       "      <td>359</td>\n",
       "      <td>0.052</td>\n",
       "    </tr>\n",
       "    <tr>\n",
       "      <th>2</th>\n",
       "      <td>6</td>\n",
       "      <td>1685</td>\n",
       "      <td>0.243</td>\n",
       "    </tr>\n",
       "    <tr>\n",
       "      <th>3</th>\n",
       "      <td>7</td>\n",
       "      <td>4764</td>\n",
       "      <td>0.687</td>\n",
       "    </tr>\n",
       "  </tbody>\n",
       "</table>\n",
       "</div>"
      ],
      "text/plain": [
       "   aprovacoes  frequencia   freq\n",
       "0           4         126  0.018\n",
       "1           5         359  0.052\n",
       "2           6        1685  0.243\n",
       "3           7        4764  0.687"
      ]
     },
     "execution_count": 238,
     "metadata": {},
     "output_type": "execute_result"
    }
   ],
   "source": [
    "veiculos = pd.DataFrame({\"aprovacoes\":[4,5,6,7], \"frequencia\":[126, 359, 1685, 4764]})\n",
    "veiculos['freq'] = round(veiculos['frequencia']/veiculos['frequencia'].sum(), 3)\n",
    "veiculos"
   ]
  },
  {
   "cell_type": "code",
   "execution_count": 272,
   "id": "929e9824-75a3-43b6-88ef-a08cce23b763",
   "metadata": {},
   "outputs": [
    {
     "name": "stdout",
     "output_type": "stream",
     "text": [
      "Média: 6.599\n",
      "Mediana: 7\n",
      "Moda: 7\n"
     ]
    }
   ],
   "source": [
    "# a) moda média e mediana\n",
    "\n",
    "#media\n",
    "veiculos_media = (veiculos['aprovacoes']*veiculos['freq']).sum()\n",
    "print(f\"Média: {veiculos_media}\")\n",
    "\n",
    "#mediana\n",
    "veiculos['freq_cumsum'] = veiculos['freq'].cumsum()\n",
    "i = 0\n",
    "while(veiculos['freq_cumsum'].iloc[i] < .5):\n",
    "    i += 1\n",
    "veiculos_mediana = veiculos['aprovacoes'][i]\n",
    "print(f\"Mediana: {veiculos_mediana}\")\n",
    "\n",
    "#moda\n",
    "veiculos_moda = veiculos[veiculos['freq'] == veiculos['freq'].max()]['aprovacoes'].values[0]\n",
    "print(f\"Moda: {veiculos_moda}\")"
   ]
  },
  {
   "cell_type": "code",
   "execution_count": 275,
   "id": "aa07dac8-6911-46a4-a853-bfac13033849",
   "metadata": {},
   "outputs": [
    {
     "name": "stdout",
     "output_type": "stream",
     "text": [
      "Variância: 0.45219900000000024\n"
     ]
    }
   ],
   "source": [
    "# b) variância\n",
    "\n",
    "veiculos_var = ((veiculos['aprovacoes']**2)*veiculos['freq']).sum() - veiculos_media**2\n",
    "print(f\"Variância: {veiculos_var}\")"
   ]
  },
  {
   "cell_type": "code",
   "execution_count": 284,
   "id": "40d4bb82-a2b9-48f4-9eb5-ef5a7cd983b4",
   "metadata": {},
   "outputs": [
    {
     "name": "stdout",
     "output_type": "stream",
     "text": [
      "Média: 0.40099999999999997\n",
      "Mediana: 0\n",
      "Moda: 0\n",
      "Variância: 0.452199\n"
     ]
    }
   ],
   "source": [
    "# c) crie uma nova variável \"reprovações\" para verificações não \"ok\" no veículo. refaça moda media e mediana\n",
    "veiculos['reprovacoes'] = (7 - veiculos['aprovacoes'])\n",
    "\n",
    "#media\n",
    "veiculos_rep_media = (veiculos['reprovacoes']*veiculos['freq']).sum()\n",
    "print(f\"Média: {veiculos_rep_media}\")\n",
    "\n",
    "#mediana\n",
    "i = 0\n",
    "while(veiculos['freq_cumsum'].iloc[i] < .5):\n",
    "    i += 1\n",
    "veiculos_rep_mediana = veiculos['reprovacoes'].iloc[i]\n",
    "print(f\"Mediana: {veiculos_rep_mediana}\")\n",
    "\n",
    "#moda\n",
    "veiculos_rep_moda = veiculos[veiculos['freq'] == veiculos['freq'].max()]['reprovacoes'].values[0]\n",
    "print(f\"Moda: {veiculos_rep_moda}\")\n",
    "\n",
    "#variância\n",
    "veiculos_rep_var = ((veiculos['reprovacoes']**2)*veiculos['freq']).sum() - veiculos_rep_media**2\n",
    "print(f\"Variância: {veiculos_rep_var}\")"
   ]
  },
  {
   "cell_type": "code",
   "execution_count": 295,
   "id": "34729d2d-7176-46ab-88c6-c35d98d0f4b7",
   "metadata": {},
   "outputs": [
    {
     "name": "stdout",
     "output_type": "stream",
     "text": [
      "Média: 80.2\n",
      "Variância: 18087.96\n",
      "Desvio Padrão: 134.49\n"
     ]
    }
   ],
   "source": [
    "# d) media e var\n",
    "veiculos['custo_p_rep'] = veiculos['reprovacoes']*200\n",
    "veiculos\n",
    "\n",
    "#media\n",
    "veiculos_cus_media = (veiculos['custo_p_rep']*veiculos['freq']).sum()\n",
    "print(f\"Média: {veiculos_cus_media}\")\n",
    "\n",
    "veiculos\n",
    "#var\n",
    "veiculos_cus_var = ((veiculos['custo_p_rep']**2)*veiculos['freq']).sum() - veiculos_cus_media**2\n",
    "print(f\"Variância: {veiculos_cus_var}\")\n",
    "print(f\"Desvio Padrão: {round(math.sqrt(veiculos_cus_var), 2)}\")"
   ]
  },
  {
   "cell_type": "markdown",
   "id": "e17a4066-be02-4384-aed5-1a203c91b127",
   "metadata": {},
   "source": [
    "# Exercício 13"
   ]
  },
  {
   "cell_type": "code",
   "execution_count": 323,
   "id": "c8c3d400-6958-47a9-bd14-ba4018259dc0",
   "metadata": {},
   "outputs": [
    {
     "data": {
      "text/html": [
       "<div>\n",
       "<style scoped>\n",
       "    .dataframe tbody tr th:only-of-type {\n",
       "        vertical-align: middle;\n",
       "    }\n",
       "\n",
       "    .dataframe tbody tr th {\n",
       "        vertical-align: top;\n",
       "    }\n",
       "\n",
       "    .dataframe thead th {\n",
       "        text-align: right;\n",
       "    }\n",
       "</style>\n",
       "<table border=\"1\" class=\"dataframe\">\n",
       "  <thead>\n",
       "    <tr style=\"text-align: right;\">\n",
       "      <th></th>\n",
       "      <th>computadores</th>\n",
       "      <th>freq</th>\n",
       "      <th>freq2</th>\n",
       "    </tr>\n",
       "  </thead>\n",
       "  <tbody>\n",
       "    <tr>\n",
       "      <th>0</th>\n",
       "      <td>0</td>\n",
       "      <td>156</td>\n",
       "      <td>0.42</td>\n",
       "    </tr>\n",
       "    <tr>\n",
       "      <th>1</th>\n",
       "      <td>1</td>\n",
       "      <td>135</td>\n",
       "      <td>0.36</td>\n",
       "    </tr>\n",
       "    <tr>\n",
       "      <th>2</th>\n",
       "      <td>2</td>\n",
       "      <td>47</td>\n",
       "      <td>0.13</td>\n",
       "    </tr>\n",
       "    <tr>\n",
       "      <th>3</th>\n",
       "      <td>3</td>\n",
       "      <td>25</td>\n",
       "      <td>0.07</td>\n",
       "    </tr>\n",
       "    <tr>\n",
       "      <th>4</th>\n",
       "      <td>4</td>\n",
       "      <td>8</td>\n",
       "      <td>0.02</td>\n",
       "    </tr>\n",
       "  </tbody>\n",
       "</table>\n",
       "</div>"
      ],
      "text/plain": [
       "   computadores  freq  freq2\n",
       "0             0   156   0.42\n",
       "1             1   135   0.36\n",
       "2             2    47   0.13\n",
       "3             3    25   0.07\n",
       "4             4     8   0.02"
      ]
     },
     "execution_count": 323,
     "metadata": {},
     "output_type": "execute_result"
    }
   ],
   "source": [
    "compu = pd.DataFrame({\"computadores\":[0,1,2,3,4], \"freq\":[156,135,47,25,8]})\n",
    "compu['freq2'] = round(compu['freq']/compu['freq'].sum(), 2)\n",
    "compu"
   ]
  },
  {
   "cell_type": "code",
   "execution_count": 325,
   "id": "d72e361a-84ee-4c95-b38f-963949307c87",
   "metadata": {},
   "outputs": [
    {
     "name": "stdout",
     "output_type": "stream",
     "text": [
      "Média: 0.91\n",
      "Variância: 1.0019000000000002\n"
     ]
    }
   ],
   "source": [
    "# a) media e variância\n",
    "\n",
    "#media\n",
    "compu_media = (compu['computadores']*compu['freq2']).sum()\n",
    "print(f\"Média: {compu_media}\")\n",
    "\n",
    "#variância\n",
    "compu_var = ((compu['computadores']**2)*compu['freq2']).sum() - compu_media**2\n",
    "print(f\"Variância: {compu_var}\")"
   ]
  },
  {
   "cell_type": "code",
   "execution_count": 330,
   "id": "f873bfa1-4340-4ace-b251-1d6a1f14146d",
   "metadata": {},
   "outputs": [
    {
     "name": "stdout",
     "output_type": "stream",
     "text": [
      "Número de computadores: 356\n",
      "Número de computadores para completar: 15\n"
     ]
    }
   ],
   "source": [
    "# b) \n",
    "compu_total = ((compu['computadores']*compu['freq']).sum()) + 20\n",
    "print(f\"Número de computadores: {compu_total}\")\n",
    "\n",
    "compu_resto = compu['freq'].sum() - compu_total\n",
    "print(f\"Número de computadores para completar: {compu_resto}\")"
   ]
  },
  {
   "cell_type": "markdown",
   "id": "a6e67cfd-5a3c-4d57-806e-1198b31f0232",
   "metadata": {},
   "source": [
    "# Exercício 15"
   ]
  },
  {
   "cell_type": "code",
   "execution_count": 334,
   "id": "50d85445-ff6f-4a5a-ad8a-97d2d78ea740",
   "metadata": {},
   "outputs": [
    {
     "data": {
      "text/html": [
       "<div>\n",
       "<style scoped>\n",
       "    .dataframe tbody tr th:only-of-type {\n",
       "        vertical-align: middle;\n",
       "    }\n",
       "\n",
       "    .dataframe tbody tr th {\n",
       "        vertical-align: top;\n",
       "    }\n",
       "\n",
       "    .dataframe thead th {\n",
       "        text-align: right;\n",
       "    }\n",
       "</style>\n",
       "<table border=\"1\" class=\"dataframe\">\n",
       "  <thead>\n",
       "    <tr style=\"text-align: right;\">\n",
       "      <th></th>\n",
       "      <th>T</th>\n",
       "      <th>Pi</th>\n",
       "      <th>Pontos</th>\n",
       "    </tr>\n",
       "  </thead>\n",
       "  <tbody>\n",
       "    <tr>\n",
       "      <th>0</th>\n",
       "      <td>3</td>\n",
       "      <td>0.1</td>\n",
       "      <td>10</td>\n",
       "    </tr>\n",
       "    <tr>\n",
       "      <th>1</th>\n",
       "      <td>4</td>\n",
       "      <td>0.1</td>\n",
       "      <td>9</td>\n",
       "    </tr>\n",
       "    <tr>\n",
       "      <th>2</th>\n",
       "      <td>5</td>\n",
       "      <td>0.2</td>\n",
       "      <td>8</td>\n",
       "    </tr>\n",
       "    <tr>\n",
       "      <th>3</th>\n",
       "      <td>6</td>\n",
       "      <td>0.2</td>\n",
       "      <td>7</td>\n",
       "    </tr>\n",
       "    <tr>\n",
       "      <th>4</th>\n",
       "      <td>7</td>\n",
       "      <td>0.2</td>\n",
       "      <td>6</td>\n",
       "    </tr>\n",
       "    <tr>\n",
       "      <th>5</th>\n",
       "      <td>8</td>\n",
       "      <td>0.1</td>\n",
       "      <td>5</td>\n",
       "    </tr>\n",
       "    <tr>\n",
       "      <th>6</th>\n",
       "      <td>9</td>\n",
       "      <td>0.1</td>\n",
       "      <td>4</td>\n",
       "    </tr>\n",
       "  </tbody>\n",
       "</table>\n",
       "</div>"
      ],
      "text/plain": [
       "   T   Pi  Pontos\n",
       "0  3  0.1      10\n",
       "1  4  0.1       9\n",
       "2  5  0.2       8\n",
       "3  6  0.2       7\n",
       "4  7  0.2       6\n",
       "5  8  0.1       5\n",
       "6  9  0.1       4"
      ]
     },
     "execution_count": 334,
     "metadata": {},
     "output_type": "execute_result"
    }
   ],
   "source": [
    "digit = pd.DataFrame({\"T\":[3,4,5,6,7,8,9], \"Pi\":[.1,.1,.2,.2,.2,.1,.1]})\n",
    "digit['Pontos'] = 13 - digit['T']\n",
    "digit"
   ]
  },
  {
   "cell_type": "code",
   "execution_count": 338,
   "id": "95dcc2ce-6bb3-45cb-8c1a-1e2a5c3e9ced",
   "metadata": {},
   "outputs": [
    {
     "name": "stdout",
     "output_type": "stream",
     "text": [
      "Média: 7.0\n",
      "Variânca: 3.0\n"
     ]
    }
   ],
   "source": [
    "#media\n",
    "digit_media = (digit['Pontos']*digit['Pi']).sum()\n",
    "print(f\"Média: {round(digit_media, 2)}\")\n",
    "\n",
    "digit_var = ((digit['Pontos']**2)*digit['Pi']).sum() - digit_media**2\n",
    "print(f\"Variânca: {round(digit_var, 2)}\")"
   ]
  },
  {
   "cell_type": "markdown",
   "id": "1f83496d-3043-4ea6-9217-0b0527d8203f",
   "metadata": {},
   "source": [
    "# Exercício 17"
   ]
  },
  {
   "cell_type": "code",
   "execution_count": 344,
   "id": "94fc4627-d093-4e47-bc39-1b304023a978",
   "metadata": {},
   "outputs": [
    {
     "name": "stdout",
     "output_type": "stream",
     "text": [
      "Média: 2.0\n",
      "Variância: 46.0\n",
      "Desvio Padrão: 6.78\n"
     ]
    }
   ],
   "source": [
    "gasto = pd.DataFrame({\"gasto\":[0,10,30], \"freq\":[.9,.05,.05]})\n",
    "\n",
    "gasto_media = (gasto['gasto']*gasto['freq']).sum()\n",
    "print(f\"Média: {gasto_media}\")\n",
    "\n",
    "gasto_var = ((gasto['gasto']**2)*gasto['freq']).sum() - gasto_media**2\n",
    "print(f\"Variância: {gasto_var}\")\n",
    "print(f\"Desvio Padrão: {round(math.sqrt(gasto_var), 2)}\")"
   ]
  },
  {
   "cell_type": "markdown",
   "id": "911a6492-8e39-46d7-a7a1-5cc89ad4db21",
   "metadata": {},
   "source": [
    "# Exercício 19"
   ]
  },
  {
   "cell_type": "code",
   "execution_count": 354,
   "id": "afe7f3e6-db20-4984-b95b-a3f87b600b46",
   "metadata": {},
   "outputs": [
    {
     "name": "stdout",
     "output_type": "stream",
     "text": [
      "Média: 134.0\n"
     ]
    }
   ],
   "source": [
    "valor = pd.DataFrame({\"Valor\":[20,60,100,110,150,200], \"Freq\":[.04,.12,.09,.2,.3,.25]})\n",
    "\n",
    "valor_media = (valor['Valor']*valor['Freq']).sum()\n",
    "print(f\"Média: {valor_media}\")"
   ]
  },
  {
   "cell_type": "markdown",
   "id": "b78116ca-0432-4f93-ab52-7dac6ab0889d",
   "metadata": {},
   "source": [
    "# Exercício 21"
   ]
  },
  {
   "cell_type": "code",
   "execution_count": 395,
   "id": "521b6c92-d75f-475e-9945-9f1fc4673af4",
   "metadata": {},
   "outputs": [
    {
     "name": "stdout",
     "output_type": "stream",
     "text": [
      "Média: 36.983333333333334\n",
      "Variância: 22.124722222222317\n"
     ]
    }
   ],
   "source": [
    "camin = pd.DataFrame({\"modelo\":[\"S_f\", \"CL_f\", \"GL_f\",\"S_d\", \"CL_d\", \"GL_d\"], \"preco\":[30, 35, 40, 30*1.1,35*1.1,40*1.1]}).sort_values(\"preco\")\n",
    "camin['freq'] = pd.Series([1/10, 7/30,1/10, 7/30,1/10, 7/30])\n",
    "\n",
    "camin_media = (camin['preco']*camin['freq']).sum()\n",
    "print(f\"Média: {camin_media}\")\n",
    "\n",
    "camin_var = ((camin['preco']**2)*camin['freq']).sum() - camin_media**2\n",
    "print(f\"Variância: {camin_var}\")"
   ]
  },
  {
   "cell_type": "markdown",
   "id": "7f01d052-ed63-4c95-8b5e-bc5d0a471cbe",
   "metadata": {},
   "source": [
    "# Exercício 23"
   ]
  },
  {
   "cell_type": "code",
   "execution_count": 119,
   "id": "ccf2c213-47ad-4c93-abaa-359bb731cb39",
   "metadata": {},
   "outputs": [
    {
     "name": "stdout",
     "output_type": "stream",
     "text": [
      "Média: 1.623271\n",
      "Var: 1.3635462605589996\n"
     ]
    }
   ],
   "source": [
    "# uma industria pretendo comprar 3 produtos de empresas A e B, o primeiro produto é comprado aleatoriamente com 50%. a chance de satisfação é de 80% e 70% \n",
    "# respectivamente para A e B. Se um produto não for satisfatório, o proximo a ser comprado é da outra empresa. Calcule a média e a variância de A\n",
    "\n",
    "# Metodo 1 (automático, utilizando computação)\n",
    "def simulate_purchase_A():\n",
    "    current_company = 'A' if random.random() < 0.5 else 'B'\n",
    "    satisfaction_prob = {'A':0.8, 'B':0.7}\n",
    "\n",
    "    a_purchases = 0\n",
    "    for _ in range(3):\n",
    "        prob = satisfaction_prob[current_company]\n",
    "        \n",
    "        if current_company == 'A':\n",
    "            a_purchases += 1\n",
    "        if random.random() >= prob:\n",
    "            if current_company == 'A':\n",
    "                current_company = 'B'\n",
    "            else:\n",
    "                current_company = 'A'\n",
    "    return a_purchases\n",
    "    \n",
    "results = [simulate_purchase_A() for _ in range(1000000)]\n",
    "print(f\"Média: {np.mean(results)}\")\n",
    "print(f\"Var: {np.var(results)}\")"
   ]
  },
  {
   "cell_type": "code",
   "execution_count": 144,
   "id": "f632cfda-a854-4579-97aa-993f94023302",
   "metadata": {},
   "outputs": [
    {
     "name": "stdout",
     "output_type": "stream",
     "text": [
      "Média: 1.625\n",
      "Var: 1.364\n"
     ]
    }
   ],
   "source": [
    "# Metodo 2 (manual)\n",
    "empresas = ['A', 'B']\n",
    "prob = {'A':0.8, 'B':0.7}\n",
    "\n",
    "arvore = []\n",
    "# Calculando a Arvore de Opções de Compra\n",
    "for emp1 in empresas:\n",
    "    for emp2 in empresas:\n",
    "        for emp3 in empresas:\n",
    "            arvore.append(emp1+emp2+emp3)\n",
    "\n",
    "# Calculando probabilidades\n",
    "arvore_val = []\n",
    "arvore_prob = []\n",
    "for emps in arvore:\n",
    "    arvore_val.append(emps.count('A'))\n",
    "    ant = None\n",
    "    probEmp = 0.5\n",
    "    for i in range(0,2,1):\n",
    "        if emps[i] != emps[i+1]:\n",
    "            probEmp *= 1 - prob[emps[i]]\n",
    "        else:\n",
    "            probEmp *= prob[emps[i]]\n",
    "    arvore_prob.append(round(probEmp, 4))\n",
    "\n",
    "# Criando Tabela de Frequencia\n",
    "tabelaFrequenciaA = pd.DataFrame({'Arvore':arvore, 'quantidade':arvore_val, 'Prob':arvore_prob})\n",
    "\n",
    "# Calculando valores finais\n",
    "media = (tabelaFrequenciaA['quantidade']*tabelaFrequenciaA['Prob']).sum()\n",
    "print(f\"Média: {media}\")\n",
    "\n",
    "var = ((tabelaFrequenciaA['quantidade']**2)*tabelaFrequenciaA['Prob']).sum() - (media**2)\n",
    "print(f\"Var: {round(var, 3)}\")\n",
    "    "
   ]
  },
  {
   "cell_type": "markdown",
   "id": "1c75a318-070f-49e4-a5db-ead28dd3b9ab",
   "metadata": {},
   "source": [
    "# Exercício 27"
   ]
  },
  {
   "cell_type": "code",
   "execution_count": 196,
   "id": "4c2292b4-5ffc-4db6-a5a5-6714248f459b",
   "metadata": {},
   "outputs": [
    {
     "name": "stdout",
     "output_type": "stream",
     "text": [
      "Probabilidade de pelo menos duas fotos: 0.8208\n",
      "Média de Ganho Semanal: 120.0\n"
     ]
    }
   ],
   "source": [
    "opcoes = ['A', 'R']\n",
    "arvore = []\n",
    "\n",
    "for a1 in opcoes:\n",
    "    for a2 in opcoes:\n",
    "        for a3 in opcoes:\n",
    "            for a4 in opcoes:\n",
    "                arvore.append(a1+a2+a3+a4)\n",
    "                \n",
    "arvore_prob = []\n",
    "for valores in arvore:\n",
    "    aceitos = valores.count('A')\n",
    "    prob = (0.6**aceitos) * (0.4**(4-aceitos))\n",
    "    arvore_prob.append(round(prob, 4))\n",
    "\n",
    "tabelaFreq = pd.DataFrame({'Possibilidades':arvore, 'Probabilidade':arvore_prob})\n",
    "\n",
    "# Probabilidade de pelo menos duas fotos aceitas\n",
    "questao_a = tabelaFreq[tabelaFreq['Possibilidades'].str.count('A') >= 2]['Probabilidade'].sum()\n",
    "print(f\"Probabilidade de pelo menos duas fotos: {questao_a}\")\n",
    "\n",
    "# Tabela de Probabilidade de Ganho\n",
    "tabelaFreq['Ganho'] = 50*tabelaFreq['Possibilidades'].str.count('A')\n",
    "tabelaFreq2 = tabelaFreq.groupby('Ganho')['Probabilidade'].sum().reset_index()\n",
    "\n",
    "# Média de Ganho\n",
    "media = round((tabelaFreq2['Ganho']*tabelaFreq2['Probabilidade']).sum(), 2)\n",
    "print(f\"Média de Ganho Semanal: {media}\")"
   ]
  }
 ],
 "metadata": {
  "kernelspec": {
   "display_name": "Python 3 (ipykernel)",
   "language": "python",
   "name": "python3"
  },
  "language_info": {
   "codemirror_mode": {
    "name": "ipython",
    "version": 3
   },
   "file_extension": ".py",
   "mimetype": "text/x-python",
   "name": "python",
   "nbconvert_exporter": "python",
   "pygments_lexer": "ipython3",
   "version": "3.13.1"
  }
 },
 "nbformat": 4,
 "nbformat_minor": 5
}
